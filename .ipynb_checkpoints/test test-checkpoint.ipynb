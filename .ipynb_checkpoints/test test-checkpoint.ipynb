{
 "cells": [
  {
   "cell_type": "code",
   "execution_count": 12,
   "metadata": {},
   "outputs": [],
   "source": [
    "import os\n",
    "from flask import (\n",
    "    Flask,\n",
    "    render_template,\n",
    "    jsonify,\n",
    "    request,\n",
    "    redirect)\n",
    "from config1 import username1,password1,host1,port1,database1\n",
    "import sqlalchemy\n",
    "from sqlalchemy import create_engine, func, inspect, desc\n",
    "import pandas as pd"
   ]
  },
  {
   "cell_type": "code",
   "execution_count": 13,
   "metadata": {},
   "outputs": [],
   "source": [
    "connection1=f'{username1}:{password1}@{host1}:{port1}/{database1}'\n",
    "engine1 = create_engine(f'postgresql://{connection1}')"
   ]
  },
  {
   "cell_type": "code",
   "execution_count": 17,
   "metadata": {},
   "outputs": [
    {
     "data": {
      "text/html": [
       "<div>\n",
       "<style scoped>\n",
       "    .dataframe tbody tr th:only-of-type {\n",
       "        vertical-align: middle;\n",
       "    }\n",
       "\n",
       "    .dataframe tbody tr th {\n",
       "        vertical-align: top;\n",
       "    }\n",
       "\n",
       "    .dataframe thead th {\n",
       "        text-align: right;\n",
       "    }\n",
       "</style>\n",
       "<table border=\"1\" class=\"dataframe\">\n",
       "  <thead>\n",
       "    <tr style=\"text-align: right;\">\n",
       "      <th></th>\n",
       "      <th>state</th>\n",
       "      <th>order_date</th>\n",
       "      <th>order_expiration_date</th>\n",
       "      <th>population</th>\n",
       "      <th>total_cases</th>\n",
       "      <th>total_deaths</th>\n",
       "      <th>per100k</th>\n",
       "      <th>thisweek_cases</th>\n",
       "      <th>lastweek_cases</th>\n",
       "      <th>thisweek_deaths</th>\n",
       "      <th>lastweek_deaths</th>\n",
       "      <th>positive_rate</th>\n",
       "    </tr>\n",
       "  </thead>\n",
       "  <tbody>\n",
       "    <tr>\n",
       "      <th>0</th>\n",
       "      <td>Alabama</td>\n",
       "      <td>2020-04-03</td>\n",
       "      <td>2020-04-30</td>\n",
       "      <td>4903185</td>\n",
       "      <td>34964</td>\n",
       "      <td>898</td>\n",
       "      <td>713.087514</td>\n",
       "      <td>5366</td>\n",
       "      <td>4363</td>\n",
       "      <td>69</td>\n",
       "      <td>61</td>\n",
       "      <td>9.452240</td>\n",
       "    </tr>\n",
       "    <tr>\n",
       "      <th>1</th>\n",
       "      <td>Alaska</td>\n",
       "      <td>2020-03-27</td>\n",
       "      <td>None</td>\n",
       "      <td>731545</td>\n",
       "      <td>880</td>\n",
       "      <td>14</td>\n",
       "      <td>120.293352</td>\n",
       "      <td>128</td>\n",
       "      <td>92</td>\n",
       "      <td>2</td>\n",
       "      <td>0</td>\n",
       "      <td>0.831578</td>\n",
       "    </tr>\n",
       "    <tr>\n",
       "      <th>2</th>\n",
       "      <td>Arizona</td>\n",
       "      <td>2020-03-30</td>\n",
       "      <td>2020-05-15</td>\n",
       "      <td>7278717</td>\n",
       "      <td>73919</td>\n",
       "      <td>1593</td>\n",
       "      <td>1015.549856</td>\n",
       "      <td>21328</td>\n",
       "      <td>16885</td>\n",
       "      <td>245</td>\n",
       "      <td>159</td>\n",
       "      <td>14.573650</td>\n",
       "    </tr>\n",
       "    <tr>\n",
       "      <th>3</th>\n",
       "      <td>Arkansas</td>\n",
       "      <td>None</td>\n",
       "      <td>None</td>\n",
       "      <td>3017804</td>\n",
       "      <td>19106</td>\n",
       "      <td>264</td>\n",
       "      <td>633.109374</td>\n",
       "      <td>3742</td>\n",
       "      <td>3488</td>\n",
       "      <td>121</td>\n",
       "      <td>65</td>\n",
       "      <td>6.695732</td>\n",
       "    </tr>\n",
       "    <tr>\n",
       "      <th>4</th>\n",
       "      <td>California</td>\n",
       "      <td>2020-03-19</td>\n",
       "      <td>None</td>\n",
       "      <td>39512223</td>\n",
       "      <td>215296</td>\n",
       "      <td>5932</td>\n",
       "      <td>544.884554</td>\n",
       "      <td>4116</td>\n",
       "      <td>2829</td>\n",
       "      <td>39</td>\n",
       "      <td>46</td>\n",
       "      <td>5.331522</td>\n",
       "    </tr>\n",
       "  </tbody>\n",
       "</table>\n",
       "</div>"
      ],
      "text/plain": [
       "        state  order_date order_expiration_date  population  total_cases  \\\n",
       "0     Alabama  2020-04-03            2020-04-30     4903185        34964   \n",
       "1      Alaska  2020-03-27                  None      731545          880   \n",
       "2     Arizona  2020-03-30            2020-05-15     7278717        73919   \n",
       "3    Arkansas        None                  None     3017804        19106   \n",
       "4  California  2020-03-19                  None    39512223       215296   \n",
       "\n",
       "   total_deaths      per100k  thisweek_cases  lastweek_cases  thisweek_deaths  \\\n",
       "0           898   713.087514            5366            4363               69   \n",
       "1            14   120.293352             128              92                2   \n",
       "2          1593  1015.549856           21328           16885              245   \n",
       "3           264   633.109374            3742            3488              121   \n",
       "4          5932   544.884554            4116            2829               39   \n",
       "\n",
       "   lastweek_deaths  positive_rate  \n",
       "0               61       9.452240  \n",
       "1                0       0.831578  \n",
       "2              159      14.573650  \n",
       "3               65       6.695732  \n",
       "4               46       5.331522  "
      ]
     },
     "execution_count": 17,
     "metadata": {},
     "output_type": "execute_result"
    }
   ],
   "source": [
    "state_heatmap=pd.read_sql_query('select * from state_heatmap', con=engine1,index_col='state').head()\n",
    "state_heatmap=state_heatmap.reset_index()\n",
    "state_heatmap"
   ]
  },
  {
   "cell_type": "code",
   "execution_count": 18,
   "metadata": {},
   "outputs": [],
   "source": [
    "state_heatmap=state_heatmap.to_json(orient='records')"
   ]
  },
  {
   "cell_type": "code",
   "execution_count": 19,
   "metadata": {},
   "outputs": [
    {
     "data": {
      "text/plain": [
       "'[{\"state\":\"Alabama\",\"order_date\":\"2020-04-03\",\"order_expiration_date\":\"2020-04-30\",\"population\":4903185,\"total_cases\":34964,\"total_deaths\":898,\"per100k\":713.0875135244,\"thisweek_cases\":5366,\"lastweek_cases\":4363,\"thisweek_deaths\":69,\"lastweek_deaths\":61,\"positive_rate\":9.4522404416},{\"state\":\"Alaska\",\"order_date\":\"2020-03-27\",\"order_expiration_date\":null,\"population\":731545,\"total_cases\":880,\"total_deaths\":14,\"per100k\":120.2933517419,\"thisweek_cases\":128,\"lastweek_cases\":92,\"thisweek_deaths\":2,\"lastweek_deaths\":0,\"positive_rate\":0.8315778822},{\"state\":\"Arizona\",\"order_date\":\"2020-03-30\",\"order_expiration_date\":\"2020-05-15\",\"population\":7278717,\"total_cases\":73919,\"total_deaths\":1593,\"per100k\":1015.5498558331,\"thisweek_cases\":21328,\"lastweek_cases\":16885,\"thisweek_deaths\":245,\"lastweek_deaths\":159,\"positive_rate\":14.5736503833},{\"state\":\"Arkansas\",\"order_date\":null,\"order_expiration_date\":null,\"population\":3017804,\"total_cases\":19106,\"total_deaths\":264,\"per100k\":633.109373571,\"thisweek_cases\":3742,\"lastweek_cases\":3488,\"thisweek_deaths\":121,\"lastweek_deaths\":65,\"positive_rate\":6.6957320782},{\"state\":\"California\",\"order_date\":\"2020-03-19\",\"order_expiration_date\":null,\"population\":39512223,\"total_cases\":215296,\"total_deaths\":5932,\"per100k\":544.8845538253,\"thisweek_cases\":4116,\"lastweek_cases\":2829,\"thisweek_deaths\":39,\"lastweek_deaths\":46,\"positive_rate\":5.3315219372}]'"
      ]
     },
     "execution_count": 19,
     "metadata": {},
     "output_type": "execute_result"
    }
   ],
   "source": [
    "state_heatmap"
   ]
  },
  {
   "cell_type": "code",
   "execution_count": null,
   "metadata": {},
   "outputs": [],
   "source": []
  }
 ],
 "metadata": {
  "kernelspec": {
   "display_name": "Python [conda env:PythonData] *",
   "language": "python",
   "name": "conda-env-PythonData-py"
  },
  "language_info": {
   "codemirror_mode": {
    "name": "ipython",
    "version": 3
   },
   "file_extension": ".py",
   "mimetype": "text/x-python",
   "name": "python",
   "nbconvert_exporter": "python",
   "pygments_lexer": "ipython3",
   "version": "3.7.6"
  }
 },
 "nbformat": 4,
 "nbformat_minor": 4
}
