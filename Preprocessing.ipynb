{
 "cells": [
  {
   "cell_type": "code",
   "execution_count": 1,
   "metadata": {},
   "outputs": [],
   "source": [
    "# Dependencies and Setup\n",
    "from bs4 import BeautifulSoup as bs\n",
    "import pandas as pd\n",
    "import requests\n",
    "import re\n",
    "import time \n",
    "import datetime \n",
    "import numpy as np\n",
    "from config1 import username1,password1,host1,port1,database1\n",
    "from config2 import username2,password2,host2,port2,database2\n",
    "import sqlalchemy\n",
    "from sqlalchemy import create_engine, func, inspect, desc\n",
    "pd.options.mode.chained_assignment = None  # default='warn'\n",
    "import requests\n",
    "import json\n",
    "from pandas.io.json import json_normalize\n",
    "from timeit import default_timer as timer"
   ]
  },
  {
   "cell_type": "code",
   "execution_count": 2,
   "metadata": {},
   "outputs": [],
   "source": [
    "# Database Setup\n",
    "connection1=f'{username1}:{password1}@{host1}:{port1}/{database1}'\n",
    "engine1 = create_engine(f'postgresql://{connection1}')\n",
    "\n",
    "# Pull Data\n",
    "state_heatmap=pd.read_sql_query('select * from state_heatmap', con=engine1)\n",
    "county_heatmap=pd.read_sql_query('select * from county_heatmap', con=engine1)\n",
    "state_cases=pd.read_sql_query('select * from state_cases', con=engine1)\n",
    "state_deaths=pd.read_sql_query('select * from state_deaths', con=engine1)\n",
    "county_cases1=pd.read_sql_query('select * from county_cases1', con=engine1)\n",
    "county_cases2=pd.read_sql_query('select * from county_cases2', con=engine1)\n",
    "county_cases3=pd.read_sql_query('select * from county_cases3', con=engine1)\n",
    "county_deaths1=pd.read_sql_query('select * from county_deaths1', con=engine1)\n",
    "county_deaths2=pd.read_sql_query('select * from county_deaths2', con=engine1)\n",
    "county_deaths3=pd.read_sql_query('select * from county_deaths3', con=engine1)\n",
    "\n",
    "# Concats\n",
    "county_cases=pd.concat([county_cases1,county_cases2,county_cases3], ignore_index=True)\n",
    "county_deaths=pd.concat([county_deaths1,county_deaths2,county_deaths3], ignore_index=True)"
   ]
  },
  {
   "cell_type": "code",
   "execution_count": 3,
   "metadata": {},
   "outputs": [
    {
     "name": "stdout",
     "output_type": "stream",
     "text": [
      "0.42127299999999934\n"
     ]
    }
   ],
   "source": [
    "start = timer()\n",
    "state_cases_popcorrected={}\n",
    "k=0\n",
    "[r,c]=state_cases.shape\n",
    "for j in range (0,r):\n",
    "    pop=state_heatmap.iloc[j,3]\n",
    "    for i in range (1,c-7):\n",
    "        if state_cases.iloc[j,i+1]>0:\n",
    "            state_cases_popcorrected[k] = {\"day1\": (state_cases.iloc[j,i]*100000)/pop,\"day2\": (state_cases.iloc[j,i+1]*100000)/pop,\"day3\": (state_cases.iloc[j,i+2]*100000)/pop,\"day4\": (state_cases.iloc[j,i+3]*100000)/pop,\"day5\": (state_cases.iloc[j,i+4]*100000)/pop,\"day6\": (state_cases.iloc[j,i+5]*100000)/pop,\"day7\": (state_cases.iloc[j,i+6]*100000)/pop,\"day8\":(state_cases.iloc[j,i+7]*100000)/pop}\n",
    "            k=k+1\n",
    "state_cases_popcorrected = pd.DataFrame.from_dict(state_cases_popcorrected, \"index\")\n",
    "end = timer()\n",
    "print(end - start)"
   ]
  },
  {
   "cell_type": "code",
   "execution_count": 4,
   "metadata": {},
   "outputs": [
    {
     "name": "stdout",
     "output_type": "stream",
     "text": [
      "0.7086615999999992\n"
     ]
    }
   ],
   "source": [
    "start = timer()\n",
    "state_deaths_popcorrected={}\n",
    "k=0\n",
    "[r,c]=state_deaths.shape\n",
    "for j in range (0,r):\n",
    "    pop=state_heatmap.iloc[j,3]\n",
    "    for i in range (1,c-7):\n",
    "        if state_deaths.iloc[j,i+1]>0:\n",
    "            state_deaths_popcorrected[k] = {\"casesday1\": (state_cases.iloc[j,i]*100000)/pop,\"casesday2\": (state_cases.iloc[j,i+1]*100000)/pop,\"casesday3\": (state_cases.iloc[j,i+2]*100000)/pop,\"casesday4\": (state_cases.iloc[j,i+3]*100000)/pop,\"casesday5\": (state_cases.iloc[j,i+4]*100000)/pop,\"casesday6\": (state_cases.iloc[j,i+5]*100000)/pop,\"casesday7\": (state_cases.iloc[j,i+6]*100000)/pop,\"day1\": (state_deaths.iloc[j,i]*100000)/pop,\"day2\": (state_deaths.iloc[j,i+1]*100000)/pop,\"day3\": (state_deaths.iloc[j,i+2]*100000)/pop,\"day4\": (state_deaths.iloc[j,i+3]*100000)/pop,\"day5\": (state_deaths.iloc[j,i+4]*100000)/pop,\"day6\": (state_deaths.iloc[j,i+5]*100000)/pop,\"day7\": (state_deaths.iloc[j,i+6]*100000)/pop,\"day8\":(state_deaths.iloc[j,i+7]*100000)/pop}\n",
    "            k=k+1\n",
    "state_deaths_popcorrected = pd.DataFrame.from_dict(state_deaths_popcorrected, \"index\")\n",
    "end = timer()\n",
    "print(end - start)"
   ]
  },
  {
   "cell_type": "code",
   "execution_count": 5,
   "metadata": {},
   "outputs": [
    {
     "name": "stdout",
     "output_type": "stream",
     "text": [
      "22.082945600000002\n"
     ]
    }
   ],
   "source": [
    "start = timer()\n",
    "county_cases_popcorrected={}\n",
    "k=0\n",
    "[r,c]=county_cases.shape\n",
    "for j in range (0,r):\n",
    "    pop=county_heatmap.iloc[j,9]\n",
    "    for i in range (3,c-7):\n",
    "        if county_cases.iloc[j,i+1]>0:\n",
    "            county_cases_popcorrected[k] = {\"day1\": (county_cases.iloc[j,i]*100000)/pop,\"day2\": (county_cases.iloc[j,i+1]*100000)/pop,\"day3\": (county_cases.iloc[j,i+2]*100000)/pop,\"day4\": (county_cases.iloc[j,i+3]*100000)/pop,\"day5\": (county_cases.iloc[j,i+4]*100000)/pop,\"day6\": (county_cases.iloc[j,i+5]*100000)/pop,\"day7\": (county_cases.iloc[j,i+6]*100000)/pop,\"day8\":(county_cases.iloc[j,i+7]*100000)/pop}\n",
    "            k=k+1\n",
    "county_cases_popcorrected = pd.DataFrame.from_dict(county_cases_popcorrected, \"index\")\n",
    "cases_popcorrected=pd.concat([state_cases_popcorrected,county_cases_popcorrected])\n",
    "end = timer()\n",
    "print(end - start)"
   ]
  },
  {
   "cell_type": "code",
   "execution_count": 6,
   "metadata": {},
   "outputs": [
    {
     "name": "stdout",
     "output_type": "stream",
     "text": [
      "22.4339095\n"
     ]
    }
   ],
   "source": [
    "start = timer()\n",
    "county_deaths_popcorrected={}\n",
    "k=0\n",
    "[r,c]=county_deaths.shape\n",
    "for j in range (0,r):\n",
    "    pop=county_heatmap.iloc[j,9]\n",
    "    for i in range (3,c-7):\n",
    "        if county_deaths.iloc[j,i+1]>0:\n",
    "            county_deaths_popcorrected[k] = {\"casesday1\": (county_cases.iloc[j,i]*100000)/pop,\"casesday2\": (county_cases.iloc[j,i+1]*100000)/pop,\"casesday3\": (county_cases.iloc[j,i+2]*100000)/pop,\"casesday4\": (county_cases.iloc[j,i+3]*100000)/pop,\"casesday5\": (county_cases.iloc[j,i+4]*100000)/pop,\"casesday6\": (county_cases.iloc[j,i+5]*100000)/pop,\"casesday7\": (county_cases.iloc[j,i+6]*100000)/pop,\"day1\": (county_deaths.iloc[j,i]*100000)/pop,\"day2\": (county_deaths.iloc[j,i+1]*100000)/pop,\"day3\": (county_deaths.iloc[j,i+2]*100000)/pop,\"day4\": (county_deaths.iloc[j,i+3]*100000)/pop,\"day5\": (county_deaths.iloc[j,i+4]*100000)/pop,\"day6\": (county_deaths.iloc[j,i+5]*100000)/pop,\"day7\": (county_deaths.iloc[j,i+6]*100000)/pop,\"day8\":(county_deaths.iloc[j,i+7]*100000)/pop}\n",
    "            k=k+1\n",
    "county_deaths_popcorrected = pd.DataFrame.from_dict(county_deaths_popcorrected, \"index\")\n",
    "deaths_popcorrected=pd.concat([state_deaths_popcorrected,county_deaths_popcorrected])\n",
    "end = timer()\n",
    "print(end - start)"
   ]
  },
  {
   "cell_type": "code",
   "execution_count": 7,
   "metadata": {},
   "outputs": [
    {
     "name": "stdout",
     "output_type": "stream",
     "text": [
      "(380148, 7) (380148, 1)\n"
     ]
    }
   ],
   "source": [
    "X = cases_popcorrected[['day1', 'day2', 'day3', 'day4', 'day5', 'day6', 'day7']]\n",
    "y = cases_popcorrected['day8'].values.reshape(-1, 1)\n",
    "print(X.shape, y.shape)"
   ]
  },
  {
   "cell_type": "code",
   "execution_count": 8,
   "metadata": {},
   "outputs": [],
   "source": [
    "from sklearn.model_selection import train_test_split\n",
    "\n",
    "X_train, X_test, y_train, y_test = train_test_split(X, y, random_state=42)"
   ]
  },
  {
   "cell_type": "code",
   "execution_count": 9,
   "metadata": {},
   "outputs": [],
   "source": [
    "# from sklearn.preprocessing import StandardScaler\n",
    "\n",
    "# # Create a StandardScater model and fit it to the training data\n",
    "\n",
    "# ### BEGIN SOLUTION\n",
    "# X_scaler = StandardScaler().fit(X_train)\n",
    "# y_scaler = StandardScaler().fit(y_train)\n",
    "# ### END SOLUTION"
   ]
  },
  {
   "cell_type": "code",
   "execution_count": 10,
   "metadata": {},
   "outputs": [],
   "source": [
    "# # Transform the training and testing data using the X_scaler and y_scaler models\n",
    "\n",
    "# ### BEGIN SOLUTION\n",
    "# X_train_scaled = X_scaler.transform(X_train)\n",
    "# X_test_scaled = X_scaler.transform(X_test)\n",
    "# y_train_scaled = y_scaler.transform(y_train)\n",
    "# y_test_scaled = y_scaler.transform(y_test)\n",
    "# ### END SOLUTION"
   ]
  },
  {
   "cell_type": "code",
   "execution_count": 11,
   "metadata": {},
   "outputs": [
    {
     "data": {
      "text/plain": [
       "LinearRegression()"
      ]
     },
     "execution_count": 11,
     "metadata": {},
     "output_type": "execute_result"
    }
   ],
   "source": [
    "# Create a LinearRegression model and fit it to the scaled training data\n",
    "\n",
    "### BEGIN SOLUTION\n",
    "from sklearn.linear_model import LinearRegression\n",
    "model = LinearRegression()\n",
    "model.fit(X_train, y_train)\n",
    "### END SOLUTION"
   ]
  },
  {
   "cell_type": "code",
   "execution_count": 12,
   "metadata": {},
   "outputs": [
    {
     "data": {
      "image/png": "[encoded data removed]",
      "text/plain": [
       "<Figure size 432x288 with 1 Axes>"
      ]
     },
     "metadata": {
      "needs_background": "light"
     },
     "output_type": "display_data"
    }
   ],
   "source": [
    "### BEGIN SOLUTION\n",
    "import matplotlib.pyplot as plt\n",
    "predictions = model.predict(X_test)\n",
    "model.fit(X_train, y_train)\n",
    "plt.scatter(model.predict(X_train), model.predict(X_train) - y_train, c=\"blue\", label=\"Training Data\")\n",
    "plt.scatter(model.predict(X_test), model.predict(X_test) - y_test, c=\"orange\", label=\"Testing Data\")\n",
    "plt.legend()\n",
    "plt.hlines(y=0, xmin=y_test.min(), xmax=y_test.max())\n",
    "plt.title(\"Residual Plot\")\n",
    "plt.show()\n",
    "### END SOLUTION"
   ]
  },
  {
   "cell_type": "code",
   "execution_count": 13,
   "metadata": {},
   "outputs": [
    {
     "name": "stdout",
     "output_type": "stream",
     "text": [
      "MSE: 837.7125965352924, R2: 0.9982667620466097\n"
     ]
    }
   ],
   "source": [
    "### BEGIN SOLUTION\n",
    "from sklearn.metrics import mean_squared_error\n",
    "\n",
    "MSE = mean_squared_error(y_test, predictions)\n",
    "r2 = model.score(X_test, y_test)\n",
    "### END SOLUTION\n",
    "\n",
    "print(f\"MSE: {MSE}, R2: {r2}\")"
   ]
  },
  {
   "cell_type": "code",
   "execution_count": 14,
   "metadata": {},
   "outputs": [
    {
     "name": "stdout",
     "output_type": "stream",
     "text": [
      "MSE: 898.376566112584, R2: 0.9981412475265827\n"
     ]
    },
    {
     "name": "stderr",
     "output_type": "stream",
     "text": [
      "C:\\Users\\Henry Randall\\Anaconda3\\envs\\PythonData\\lib\\site-packages\\sklearn\\linear_model\\_coordinate_descent.py:531: ConvergenceWarning: Objective did not converge. You might want to increase the number of iterations. Duality gap: 120442067.34860948, tolerance: 13768253.619673869\n",
      "  positive)\n"
     ]
    }
   ],
   "source": [
    "from sklearn.linear_model import Lasso\n",
    "\n",
    "### BEGIN SOLUTION\n",
    "lasso = Lasso(alpha=.01).fit(X_train, y_train)\n",
    "\n",
    "predictions = lasso.predict(X_test)\n",
    "\n",
    "MSE = mean_squared_error(y_test, predictions)\n",
    "r2 = lasso.score(X_test, y_test)\n",
    "### END SOLUTION\n",
    "\n",
    "print(f\"MSE: {MSE}, R2: {r2}\")"
   ]
  },
  {
   "cell_type": "code",
   "execution_count": 15,
   "metadata": {},
   "outputs": [
    {
     "name": "stdout",
     "output_type": "stream",
     "text": [
      "MSE: 837.7125965332393, R2: 0.9982667620466139\n"
     ]
    }
   ],
   "source": [
    "# Ridge model\n",
    "# Note: Use an alpha of .01 when creating the model for this activity\n",
    "from sklearn.linear_model import Ridge\n",
    "\n",
    "### BEGIN SOLUTION\n",
    "ridge = Ridge(alpha=.01).fit(X_train, y_train)\n",
    "\n",
    "predictions = ridge.predict(X_test)\n",
    "\n",
    "MSE = mean_squared_error(y_test, predictions)\n",
    "r2 = ridge.score(X_test, y_test)\n",
    "### END SOLUTION\n",
    "\n",
    "print(f\"MSE: {MSE}, R2: {r2}\")"
   ]
  },
  {
   "cell_type": "code",
   "execution_count": 16,
   "metadata": {},
   "outputs": [
    {
     "name": "stdout",
     "output_type": "stream",
     "text": [
      "MSE: 898.3806555336145, R2: 0.9981412390655189\n"
     ]
    },
    {
     "name": "stderr",
     "output_type": "stream",
     "text": [
      "C:\\Users\\Henry Randall\\Anaconda3\\envs\\PythonData\\lib\\site-packages\\sklearn\\linear_model\\_coordinate_descent.py:531: ConvergenceWarning: Objective did not converge. You might want to increase the number of iterations. Duality gap: 120447914.03863977, tolerance: 13768253.619673869\n",
      "  positive)\n"
     ]
    }
   ],
   "source": [
    "# ElasticNet model\n",
    "# Note: Use an alpha of .01 when creating the model for this activity\n",
    "from sklearn.linear_model import ElasticNet\n",
    "\n",
    "### BEGIN SOLUTION\n",
    "elasticnet = ElasticNet(alpha=.01).fit(X_train, y_train)\n",
    "\n",
    "predictions = elasticnet.predict(X_test)\n",
    "\n",
    "MSE = mean_squared_error(y_test, predictions)\n",
    "r2 = elasticnet.score(X_test, y_test)\n",
    "### END SOLUTION\n",
    "\n",
    "print(f\"MSE: {MSE}, R2: {r2}\")"
   ]
  },
  {
   "cell_type": "code",
   "execution_count": 17,
   "metadata": {},
   "outputs": [
    {
     "name": "stdout",
     "output_type": "stream",
     "text": [
      "Training Data Score: 0.9984749191850502\n",
      "Testing Data Score: 0.9982667620466097\n"
     ]
    }
   ],
   "source": [
    "print(f\"Training Data Score: {model.score(X_train, y_train)}\")\n",
    "print(f\"Testing Data Score: {model.score(X_test, y_test)}\")"
   ]
  },
  {
   "cell_type": "code",
   "execution_count": 18,
   "metadata": {},
   "outputs": [
    {
     "name": "stdout",
     "output_type": "stream",
     "text": [
      "First 10 Predictions:   [[ 204.]\n",
      " [ 186.]\n",
      " [  41.]\n",
      " [ 565.]\n",
      " [3233.]\n",
      " [ 258.]\n",
      " [ 453.]\n",
      " [  38.]\n",
      " [ 641.]\n",
      " [1674.]]\n",
      "First 10 Actual labels: [[202.21982213847463], [186.31436314363143], [37.885963250615646], [570.6179467932162], [3239.271017048795], [244.0419447092469], [455.87292542203863], [35.03503503503504], [680.8510638297872], [1646.774437226167]]\n"
     ]
    }
   ],
   "source": [
    "predictions = model.predict(X_test)\n",
    "data = np.round(predictions, 0)\n",
    "print(f\"First 10 Predictions:   {data[:10]}\")\n",
    "print(f\"First 10 Actual labels: {y_test[:10].tolist()}\")"
   ]
  },
  {
   "cell_type": "code",
   "execution_count": 19,
   "metadata": {},
   "outputs": [
    {
     "data": {
      "text/html": [
       "<div>\n",
       "<style scoped>\n",
       "    .dataframe tbody tr th:only-of-type {\n",
       "        vertical-align: middle;\n",
       "    }\n",
       "\n",
       "    .dataframe tbody tr th {\n",
       "        vertical-align: top;\n",
       "    }\n",
       "\n",
       "    .dataframe thead th {\n",
       "        text-align: right;\n",
       "    }\n",
       "</style>\n",
       "<table border=\"1\" class=\"dataframe\">\n",
       "  <thead>\n",
       "    <tr style=\"text-align: right;\">\n",
       "      <th></th>\n",
       "      <th>Prediction</th>\n",
       "      <th>Actual</th>\n",
       "    </tr>\n",
       "  </thead>\n",
       "  <tbody>\n",
       "    <tr>\n",
       "      <th>0</th>\n",
       "      <td>[[204.0], [186.0], [41.0], [565.0], [3233.0], ...</td>\n",
       "      <td>[[202.21982213847463], [186.31436314363143], [...</td>\n",
       "    </tr>\n",
       "  </tbody>\n",
       "</table>\n",
       "</div>"
      ],
      "text/plain": [
       "                                          Prediction  \\\n",
       "0  [[204.0], [186.0], [41.0], [565.0], [3233.0], ...   \n",
       "\n",
       "                                              Actual  \n",
       "0  [[202.21982213847463], [186.31436314363143], [...  "
      ]
     },
     "execution_count": 19,
     "metadata": {},
     "output_type": "execute_result"
    }
   ],
   "source": [
    "pd.DataFrame({\"Prediction\": [data], \"Actual\": [y_test]}).reset_index(drop=True)"
   ]
  },
  {
   "cell_type": "code",
   "execution_count": 20,
   "metadata": {},
   "outputs": [
    {
     "data": {
      "text/plain": [
       "array([[204.],\n",
       "       [186.],\n",
       "       [ 41.],\n",
       "       ...,\n",
       "       [  9.],\n",
       "       [495.],\n",
       "       [118.]])"
      ]
     },
     "execution_count": 20,
     "metadata": {},
     "output_type": "execute_result"
    }
   ],
   "source": [
    "data"
   ]
  },
  {
   "cell_type": "code",
   "execution_count": 21,
   "metadata": {
    "scrolled": true
   },
   "outputs": [
    {
     "data": {
      "text/plain": [
       "array([[202.21982214],\n",
       "       [186.31436314],\n",
       "       [ 37.88596325],\n",
       "       ...,\n",
       "       [  5.96587519],\n",
       "       [499.58972646],\n",
       "       [115.09963312]])"
      ]
     },
     "execution_count": 21,
     "metadata": {},
     "output_type": "execute_result"
    }
   ],
   "source": [
    "y_test"
   ]
  },
  {
   "cell_type": "code",
   "execution_count": 22,
   "metadata": {},
   "outputs": [
    {
     "data": {
      "text/plain": [
       "LinearRegression()"
      ]
     },
     "execution_count": 22,
     "metadata": {},
     "output_type": "execute_result"
    }
   ],
   "source": [
    "model"
   ]
  },
  {
   "cell_type": "code",
   "execution_count": 23,
   "metadata": {},
   "outputs": [
    {
     "name": "stdout",
     "output_type": "stream",
     "text": [
      "[2.61145164]\n",
      "[[-0.05288652  0.01724225 -0.06653097  0.03490661  0.03230397 -0.2233047\n",
      "   1.26147011]]\n"
     ]
    }
   ],
   "source": [
    "#To retrieve the intercept:\n",
    "print(model.intercept_)\n",
    "#For retrieving the slope:\n",
    "print(model.coef_)"
   ]
  },
  {
   "cell_type": "markdown",
   "metadata": {},
   "source": [
    "Optimizations and Testing"
   ]
  },
  {
   "cell_type": "code",
   "execution_count": 24,
   "metadata": {},
   "outputs": [
    {
     "name": "stdout",
     "output_type": "stream",
     "text": [
      "22.874931000000004\n"
     ]
    }
   ],
   "source": [
    "start = timer()\n",
    "state_cases_processed=pd.DataFrame([],columns=['day1','day2','day3','day4','day5','day6','day7','day8'])\n",
    "state_cases_popcorrected=pd.DataFrame([],columns=['day1','day2','day3','day4','day5','day6','day7','day8'])\n",
    "cols=state_cases_processed.columns\n",
    "[r,c]=state_cases.shape\n",
    "for j in range (0,r):\n",
    "    pop=state_heatmap.iloc[j,3]\n",
    "    for i in range (1,c-7):\n",
    "        temp=pd.DataFrame(state_cases.iloc[j,i:i+8]).T\n",
    "        if temp.iloc[0,1]>0:\n",
    "            pop_temp=(temp*100000)/pop\n",
    "            new_cols = {x: y for x, y in zip(temp.columns, cols)}\n",
    "            state_cases_processed = state_cases_processed.append(temp.rename(columns=new_cols))\n",
    "            state_cases_popcorrected = state_cases_popcorrected.append(pop_temp.rename(columns=new_cols))\n",
    "end = timer()\n",
    "print(end - start)"
   ]
  },
  {
   "cell_type": "code",
   "execution_count": 25,
   "metadata": {},
   "outputs": [
    {
     "name": "stdout",
     "output_type": "stream",
     "text": [
      "17.131910000000005\n"
     ]
    }
   ],
   "source": [
    "start = timer()\n",
    "# state_cases_processed=pd.DataFrame([],columns=['day1','day2','day3','day4','day5','day6','day7','day8'])\n",
    "state_cases_popcorrected=pd.DataFrame([],columns=['day1','day2','day3','day4','day5','day6','day7','day8'])\n",
    "cols=state_cases_popcorrected.columns\n",
    "[r,c]=state_cases.shape\n",
    "for j in range (0,r):\n",
    "    pop=state_heatmap.iloc[j,3]\n",
    "    for i in range (1,c-7):\n",
    "        temp=pd.DataFrame(state_cases.iloc[j,i:i+8]).T\n",
    "        if temp.iloc[0,1]>0:\n",
    "            pop_temp=(temp*100000)/pop\n",
    "            new_cols = {x: y for x, y in zip(temp.columns, cols)}\n",
    "#             state_cases_processed = state_cases_processed.append(temp.rename(columns=new_cols))\n",
    "            state_cases_popcorrected = state_cases_popcorrected.append(pop_temp.rename(columns=new_cols))\n",
    "end = timer()\n",
    "print(end - start)"
   ]
  },
  {
   "cell_type": "code",
   "execution_count": 26,
   "metadata": {},
   "outputs": [
    {
     "name": "stdout",
     "output_type": "stream",
     "text": [
      "14.715150899999998\n"
     ]
    }
   ],
   "source": [
    "start = timer()\n",
    "# state_cases_processed=pd.DataFrame([],columns=['day1','day2','day3','day4','day5','day6','day7','day8'])\n",
    "state_cases_popcorrected=pd.DataFrame([],columns=['day1','day2','day3','day4','day5','day6','day7','day8'])\n",
    "cols=state_cases_popcorrected.columns\n",
    "[r,c]=state_cases.shape\n",
    "for j in range (0,r):\n",
    "    pop=state_heatmap.iloc[j,3]\n",
    "    for i in range (1,c-7):\n",
    "        if state_cases.iloc[j,i+1]>0:\n",
    "            temp=pd.DataFrame(state_cases.iloc[j,i:i+8]).T\n",
    "            pop_temp=(temp*100000)/pop\n",
    "            new_cols = {x: y for x, y in zip(temp.columns, cols)}\n",
    "#             state_cases_processed = state_cases_processed.append(temp.rename(columns=new_cols))\n",
    "            state_cases_popcorrected = state_cases_popcorrected.append(pop_temp.rename(columns=new_cols))\n",
    "end = timer()\n",
    "print(end - start)"
   ]
  },
  {
   "cell_type": "code",
   "execution_count": 27,
   "metadata": {},
   "outputs": [
    {
     "data": {
      "text/plain": [
       "2520"
      ]
     },
     "execution_count": 27,
     "metadata": {},
     "output_type": "execute_result"
    }
   ],
   "source": [
    "state_cases.iloc[j,i]"
   ]
  },
  {
   "cell_type": "code",
   "execution_count": 28,
   "metadata": {},
   "outputs": [
    {
     "name": "stdout",
     "output_type": "stream",
     "text": [
      "0.43958419999998455\n"
     ]
    }
   ],
   "source": [
    "start = timer()\n",
    "state_cases_popcorrected={}\n",
    "k=0\n",
    "[r,c]=state_cases.shape\n",
    "for j in range (0,r):\n",
    "    pop=state_heatmap.iloc[j,3]\n",
    "    for i in range (1,c-7):\n",
    "        if state_cases.iloc[j,i+1]>0:\n",
    "            state_cases_popcorrected[k] = {\"day1\": (state_cases.iloc[j,i]*100000)/pop,\"day2\": (state_cases.iloc[j,i+1]*100000)/pop,\"day3\": (state_cases.iloc[j,i+2]*100000)/pop,\"day4\": (state_cases.iloc[j,i+3]*100000)/pop,\"day5\": (state_cases.iloc[j,i+4]*100000)/pop,\"day6\": (state_cases.iloc[j,i+5]*100000)/pop,\"day7\": (state_cases.iloc[j,i+6]*100000)/pop,\"day8\":(state_cases.iloc[j,i+7]*100000)/pop}\n",
    "            k=k+1\n",
    "state_cases_popcorrected = pd.DataFrame.from_dict(state_cases_popcorrected, \"index\")\n",
    "end = timer()\n",
    "print(end - start)"
   ]
  },
  {
   "cell_type": "code",
   "execution_count": 29,
   "metadata": {},
   "outputs": [
    {
     "data": {
      "text/html": [
       "<div>\n",
       "<style scoped>\n",
       "    .dataframe tbody tr th:only-of-type {\n",
       "        vertical-align: middle;\n",
       "    }\n",
       "\n",
       "    .dataframe tbody tr th {\n",
       "        vertical-align: top;\n",
       "    }\n",
       "\n",
       "    .dataframe thead th {\n",
       "        text-align: right;\n",
       "    }\n",
       "</style>\n",
       "<table border=\"1\" class=\"dataframe\">\n",
       "  <thead>\n",
       "    <tr style=\"text-align: right;\">\n",
       "      <th></th>\n",
       "      <th>day1</th>\n",
       "      <th>day2</th>\n",
       "      <th>day3</th>\n",
       "      <th>day4</th>\n",
       "      <th>day5</th>\n",
       "      <th>day6</th>\n",
       "      <th>day7</th>\n",
       "      <th>day8</th>\n",
       "    </tr>\n",
       "  </thead>\n",
       "  <tbody>\n",
       "    <tr>\n",
       "      <th>0</th>\n",
       "      <td>0.000000</td>\n",
       "      <td>0.101975</td>\n",
       "      <td>0.142764</td>\n",
       "      <td>0.224344</td>\n",
       "      <td>0.591452</td>\n",
       "      <td>0.795401</td>\n",
       "      <td>1.040140</td>\n",
       "      <td>1.590803</td>\n",
       "    </tr>\n",
       "    <tr>\n",
       "      <th>1</th>\n",
       "      <td>0.101975</td>\n",
       "      <td>0.142764</td>\n",
       "      <td>0.224344</td>\n",
       "      <td>0.591452</td>\n",
       "      <td>0.795401</td>\n",
       "      <td>1.040140</td>\n",
       "      <td>1.590803</td>\n",
       "      <td>2.161860</td>\n",
       "    </tr>\n",
       "    <tr>\n",
       "      <th>2</th>\n",
       "      <td>0.142764</td>\n",
       "      <td>0.224344</td>\n",
       "      <td>0.591452</td>\n",
       "      <td>0.795401</td>\n",
       "      <td>1.040140</td>\n",
       "      <td>1.590803</td>\n",
       "      <td>2.161860</td>\n",
       "      <td>2.671733</td>\n",
       "    </tr>\n",
       "    <tr>\n",
       "      <th>3</th>\n",
       "      <td>0.224344</td>\n",
       "      <td>0.591452</td>\n",
       "      <td>0.795401</td>\n",
       "      <td>1.040140</td>\n",
       "      <td>1.590803</td>\n",
       "      <td>2.161860</td>\n",
       "      <td>2.671733</td>\n",
       "      <td>3.202000</td>\n",
       "    </tr>\n",
       "    <tr>\n",
       "      <th>4</th>\n",
       "      <td>0.591452</td>\n",
       "      <td>0.795401</td>\n",
       "      <td>1.040140</td>\n",
       "      <td>1.590803</td>\n",
       "      <td>2.161860</td>\n",
       "      <td>2.671733</td>\n",
       "      <td>3.202000</td>\n",
       "      <td>3.997402</td>\n",
       "    </tr>\n",
       "    <tr>\n",
       "      <th>...</th>\n",
       "      <td>...</td>\n",
       "      <td>...</td>\n",
       "      <td>...</td>\n",
       "      <td>...</td>\n",
       "      <td>...</td>\n",
       "      <td>...</td>\n",
       "      <td>...</td>\n",
       "      <td>...</td>\n",
       "    </tr>\n",
       "    <tr>\n",
       "      <th>7625</th>\n",
       "      <td>405.522851</td>\n",
       "      <td>415.544294</td>\n",
       "      <td>422.628417</td>\n",
       "      <td>427.639138</td>\n",
       "      <td>435.414395</td>\n",
       "      <td>447.336456</td>\n",
       "      <td>454.075012</td>\n",
       "      <td>464.096455</td>\n",
       "    </tr>\n",
       "    <tr>\n",
       "      <th>7626</th>\n",
       "      <td>415.544294</td>\n",
       "      <td>422.628417</td>\n",
       "      <td>427.639138</td>\n",
       "      <td>435.414395</td>\n",
       "      <td>447.336456</td>\n",
       "      <td>454.075012</td>\n",
       "      <td>464.096455</td>\n",
       "      <td>471.007794</td>\n",
       "    </tr>\n",
       "    <tr>\n",
       "      <th>7627</th>\n",
       "      <td>422.628417</td>\n",
       "      <td>427.639138</td>\n",
       "      <td>435.414395</td>\n",
       "      <td>447.336456</td>\n",
       "      <td>454.075012</td>\n",
       "      <td>464.096455</td>\n",
       "      <td>471.007794</td>\n",
       "      <td>478.437484</td>\n",
       "    </tr>\n",
       "    <tr>\n",
       "      <th>7628</th>\n",
       "      <td>427.639138</td>\n",
       "      <td>435.414395</td>\n",
       "      <td>447.336456</td>\n",
       "      <td>454.075012</td>\n",
       "      <td>464.096455</td>\n",
       "      <td>471.007794</td>\n",
       "      <td>478.437484</td>\n",
       "      <td>485.176040</td>\n",
       "    </tr>\n",
       "    <tr>\n",
       "      <th>7629</th>\n",
       "      <td>435.414395</td>\n",
       "      <td>447.336456</td>\n",
       "      <td>454.075012</td>\n",
       "      <td>464.096455</td>\n",
       "      <td>471.007794</td>\n",
       "      <td>478.437484</td>\n",
       "      <td>485.176040</td>\n",
       "      <td>492.087380</td>\n",
       "    </tr>\n",
       "  </tbody>\n",
       "</table>\n",
       "<p>7630 rows × 8 columns</p>\n",
       "</div>"
      ],
      "text/plain": [
       "            day1        day2        day3        day4        day5        day6  \\\n",
       "0       0.000000    0.101975    0.142764    0.224344    0.591452    0.795401   \n",
       "1       0.101975    0.142764    0.224344    0.591452    0.795401    1.040140   \n",
       "2       0.142764    0.224344    0.591452    0.795401    1.040140    1.590803   \n",
       "3       0.224344    0.591452    0.795401    1.040140    1.590803    2.161860   \n",
       "4       0.591452    0.795401    1.040140    1.590803    2.161860    2.671733   \n",
       "...          ...         ...         ...         ...         ...         ...   \n",
       "7625  405.522851  415.544294  422.628417  427.639138  435.414395  447.336456   \n",
       "7626  415.544294  422.628417  427.639138  435.414395  447.336456  454.075012   \n",
       "7627  422.628417  427.639138  435.414395  447.336456  454.075012  464.096455   \n",
       "7628  427.639138  435.414395  447.336456  454.075012  464.096455  471.007794   \n",
       "7629  435.414395  447.336456  454.075012  464.096455  471.007794  478.437484   \n",
       "\n",
       "            day7        day8  \n",
       "0       1.040140    1.590803  \n",
       "1       1.590803    2.161860  \n",
       "2       2.161860    2.671733  \n",
       "3       2.671733    3.202000  \n",
       "4       3.202000    3.997402  \n",
       "...          ...         ...  \n",
       "7625  454.075012  464.096455  \n",
       "7626  464.096455  471.007794  \n",
       "7627  471.007794  478.437484  \n",
       "7628  478.437484  485.176040  \n",
       "7629  485.176040  492.087380  \n",
       "\n",
       "[7630 rows x 8 columns]"
      ]
     },
     "execution_count": 29,
     "metadata": {},
     "output_type": "execute_result"
    }
   ],
   "source": [
    "state_cases_popcorrected"
   ]
  },
  {
   "cell_type": "code",
   "execution_count": 30,
   "metadata": {},
   "outputs": [
    {
     "data": {
      "text/html": [
       "<div>\n",
       "<style scoped>\n",
       "    .dataframe tbody tr th:only-of-type {\n",
       "        vertical-align: middle;\n",
       "    }\n",
       "\n",
       "    .dataframe tbody tr th {\n",
       "        vertical-align: top;\n",
       "    }\n",
       "\n",
       "    .dataframe thead th {\n",
       "        text-align: right;\n",
       "    }\n",
       "</style>\n",
       "<table border=\"1\" class=\"dataframe\">\n",
       "  <thead>\n",
       "    <tr style=\"text-align: right;\">\n",
       "      <th></th>\n",
       "      <th>day1</th>\n",
       "      <th>day2</th>\n",
       "      <th>day3</th>\n",
       "      <th>day4</th>\n",
       "      <th>day5</th>\n",
       "      <th>day6</th>\n",
       "      <th>day7</th>\n",
       "      <th>day8</th>\n",
       "    </tr>\n",
       "  </thead>\n",
       "  <tbody>\n",
       "    <tr>\n",
       "      <th>0</th>\n",
       "      <td>0.000000</td>\n",
       "      <td>0.101975</td>\n",
       "      <td>0.142764</td>\n",
       "      <td>0.224344</td>\n",
       "      <td>0.591452</td>\n",
       "      <td>0.795401</td>\n",
       "      <td>1.040140</td>\n",
       "      <td>1.590803</td>\n",
       "    </tr>\n",
       "    <tr>\n",
       "      <th>1</th>\n",
       "      <td>0.101975</td>\n",
       "      <td>0.142764</td>\n",
       "      <td>0.224344</td>\n",
       "      <td>0.591452</td>\n",
       "      <td>0.795401</td>\n",
       "      <td>1.040140</td>\n",
       "      <td>1.590803</td>\n",
       "      <td>2.161860</td>\n",
       "    </tr>\n",
       "    <tr>\n",
       "      <th>2</th>\n",
       "      <td>0.142764</td>\n",
       "      <td>0.224344</td>\n",
       "      <td>0.591452</td>\n",
       "      <td>0.795401</td>\n",
       "      <td>1.040140</td>\n",
       "      <td>1.590803</td>\n",
       "      <td>2.161860</td>\n",
       "      <td>2.671733</td>\n",
       "    </tr>\n",
       "    <tr>\n",
       "      <th>3</th>\n",
       "      <td>0.224344</td>\n",
       "      <td>0.591452</td>\n",
       "      <td>0.795401</td>\n",
       "      <td>1.040140</td>\n",
       "      <td>1.590803</td>\n",
       "      <td>2.161860</td>\n",
       "      <td>2.671733</td>\n",
       "      <td>3.202000</td>\n",
       "    </tr>\n",
       "    <tr>\n",
       "      <th>4</th>\n",
       "      <td>0.591452</td>\n",
       "      <td>0.795401</td>\n",
       "      <td>1.040140</td>\n",
       "      <td>1.590803</td>\n",
       "      <td>2.161860</td>\n",
       "      <td>2.671733</td>\n",
       "      <td>3.202000</td>\n",
       "      <td>3.997402</td>\n",
       "    </tr>\n",
       "    <tr>\n",
       "      <th>...</th>\n",
       "      <td>...</td>\n",
       "      <td>...</td>\n",
       "      <td>...</td>\n",
       "      <td>...</td>\n",
       "      <td>...</td>\n",
       "      <td>...</td>\n",
       "      <td>...</td>\n",
       "      <td>...</td>\n",
       "    </tr>\n",
       "    <tr>\n",
       "      <th>7625</th>\n",
       "      <td>405.522851</td>\n",
       "      <td>415.544294</td>\n",
       "      <td>422.628417</td>\n",
       "      <td>427.639138</td>\n",
       "      <td>435.414395</td>\n",
       "      <td>447.336456</td>\n",
       "      <td>454.075012</td>\n",
       "      <td>464.096455</td>\n",
       "    </tr>\n",
       "    <tr>\n",
       "      <th>7626</th>\n",
       "      <td>415.544294</td>\n",
       "      <td>422.628417</td>\n",
       "      <td>427.639138</td>\n",
       "      <td>435.414395</td>\n",
       "      <td>447.336456</td>\n",
       "      <td>454.075012</td>\n",
       "      <td>464.096455</td>\n",
       "      <td>471.007794</td>\n",
       "    </tr>\n",
       "    <tr>\n",
       "      <th>7627</th>\n",
       "      <td>422.628417</td>\n",
       "      <td>427.639138</td>\n",
       "      <td>435.414395</td>\n",
       "      <td>447.336456</td>\n",
       "      <td>454.075012</td>\n",
       "      <td>464.096455</td>\n",
       "      <td>471.007794</td>\n",
       "      <td>478.437484</td>\n",
       "    </tr>\n",
       "    <tr>\n",
       "      <th>7628</th>\n",
       "      <td>427.639138</td>\n",
       "      <td>435.414395</td>\n",
       "      <td>447.336456</td>\n",
       "      <td>454.075012</td>\n",
       "      <td>464.096455</td>\n",
       "      <td>471.007794</td>\n",
       "      <td>478.437484</td>\n",
       "      <td>485.176040</td>\n",
       "    </tr>\n",
       "    <tr>\n",
       "      <th>7629</th>\n",
       "      <td>435.414395</td>\n",
       "      <td>447.336456</td>\n",
       "      <td>454.075012</td>\n",
       "      <td>464.096455</td>\n",
       "      <td>471.007794</td>\n",
       "      <td>478.437484</td>\n",
       "      <td>485.176040</td>\n",
       "      <td>492.087380</td>\n",
       "    </tr>\n",
       "  </tbody>\n",
       "</table>\n",
       "<p>7630 rows × 8 columns</p>\n",
       "</div>"
      ],
      "text/plain": [
       "            day1        day2        day3        day4        day5        day6  \\\n",
       "0       0.000000    0.101975    0.142764    0.224344    0.591452    0.795401   \n",
       "1       0.101975    0.142764    0.224344    0.591452    0.795401    1.040140   \n",
       "2       0.142764    0.224344    0.591452    0.795401    1.040140    1.590803   \n",
       "3       0.224344    0.591452    0.795401    1.040140    1.590803    2.161860   \n",
       "4       0.591452    0.795401    1.040140    1.590803    2.161860    2.671733   \n",
       "...          ...         ...         ...         ...         ...         ...   \n",
       "7625  405.522851  415.544294  422.628417  427.639138  435.414395  447.336456   \n",
       "7626  415.544294  422.628417  427.639138  435.414395  447.336456  454.075012   \n",
       "7627  422.628417  427.639138  435.414395  447.336456  454.075012  464.096455   \n",
       "7628  427.639138  435.414395  447.336456  454.075012  464.096455  471.007794   \n",
       "7629  435.414395  447.336456  454.075012  464.096455  471.007794  478.437484   \n",
       "\n",
       "            day7        day8  \n",
       "0       1.040140    1.590803  \n",
       "1       1.590803    2.161860  \n",
       "2       2.161860    2.671733  \n",
       "3       2.671733    3.202000  \n",
       "4       3.202000    3.997402  \n",
       "...          ...         ...  \n",
       "7625  454.075012  464.096455  \n",
       "7626  464.096455  471.007794  \n",
       "7627  471.007794  478.437484  \n",
       "7628  478.437484  485.176040  \n",
       "7629  485.176040  492.087380  \n",
       "\n",
       "[7630 rows x 8 columns]"
      ]
     },
     "execution_count": 30,
     "metadata": {},
     "output_type": "execute_result"
    }
   ],
   "source": [
    "state_cases_popcorrected"
   ]
  },
  {
   "cell_type": "code",
   "execution_count": 31,
   "metadata": {},
   "outputs": [
    {
     "data": {
      "text/html": [
       "<div>\n",
       "<style scoped>\n",
       "    .dataframe tbody tr th:only-of-type {\n",
       "        vertical-align: middle;\n",
       "    }\n",
       "\n",
       "    .dataframe tbody tr th {\n",
       "        vertical-align: top;\n",
       "    }\n",
       "\n",
       "    .dataframe thead th {\n",
       "        text-align: right;\n",
       "    }\n",
       "</style>\n",
       "<table border=\"1\" class=\"dataframe\">\n",
       "  <thead>\n",
       "    <tr style=\"text-align: right;\">\n",
       "      <th></th>\n",
       "      <th>day1</th>\n",
       "      <th>day2</th>\n",
       "      <th>day3</th>\n",
       "      <th>day4</th>\n",
       "      <th>day5</th>\n",
       "      <th>day6</th>\n",
       "      <th>day7</th>\n",
       "      <th>day8</th>\n",
       "    </tr>\n",
       "  </thead>\n",
       "  <tbody>\n",
       "    <tr>\n",
       "      <th>0</th>\n",
       "      <td>0.000000</td>\n",
       "      <td>0.101975</td>\n",
       "      <td>0.142764</td>\n",
       "      <td>0.224344</td>\n",
       "      <td>0.591452</td>\n",
       "      <td>0.795401</td>\n",
       "      <td>1.040140</td>\n",
       "      <td>1.590803</td>\n",
       "    </tr>\n",
       "    <tr>\n",
       "      <th>1</th>\n",
       "      <td>0.101975</td>\n",
       "      <td>0.142764</td>\n",
       "      <td>0.224344</td>\n",
       "      <td>0.591452</td>\n",
       "      <td>0.795401</td>\n",
       "      <td>1.040140</td>\n",
       "      <td>1.590803</td>\n",
       "      <td>2.161860</td>\n",
       "    </tr>\n",
       "    <tr>\n",
       "      <th>2</th>\n",
       "      <td>0.142764</td>\n",
       "      <td>0.224344</td>\n",
       "      <td>0.591452</td>\n",
       "      <td>0.795401</td>\n",
       "      <td>1.040140</td>\n",
       "      <td>1.590803</td>\n",
       "      <td>2.161860</td>\n",
       "      <td>2.671733</td>\n",
       "    </tr>\n",
       "    <tr>\n",
       "      <th>3</th>\n",
       "      <td>0.224344</td>\n",
       "      <td>0.591452</td>\n",
       "      <td>0.795401</td>\n",
       "      <td>1.040140</td>\n",
       "      <td>1.590803</td>\n",
       "      <td>2.161860</td>\n",
       "      <td>2.671733</td>\n",
       "      <td>3.202000</td>\n",
       "    </tr>\n",
       "    <tr>\n",
       "      <th>4</th>\n",
       "      <td>0.591452</td>\n",
       "      <td>0.795401</td>\n",
       "      <td>1.040140</td>\n",
       "      <td>1.590803</td>\n",
       "      <td>2.161860</td>\n",
       "      <td>2.671733</td>\n",
       "      <td>3.202000</td>\n",
       "      <td>3.997402</td>\n",
       "    </tr>\n",
       "    <tr>\n",
       "      <th>...</th>\n",
       "      <td>...</td>\n",
       "      <td>...</td>\n",
       "      <td>...</td>\n",
       "      <td>...</td>\n",
       "      <td>...</td>\n",
       "      <td>...</td>\n",
       "      <td>...</td>\n",
       "      <td>...</td>\n",
       "    </tr>\n",
       "    <tr>\n",
       "      <th>372513</th>\n",
       "      <td>57.745056</td>\n",
       "      <td>57.745056</td>\n",
       "      <td>57.745056</td>\n",
       "      <td>57.745056</td>\n",
       "      <td>72.181319</td>\n",
       "      <td>72.181319</td>\n",
       "      <td>72.181319</td>\n",
       "      <td>72.181319</td>\n",
       "    </tr>\n",
       "    <tr>\n",
       "      <th>372514</th>\n",
       "      <td>57.745056</td>\n",
       "      <td>57.745056</td>\n",
       "      <td>57.745056</td>\n",
       "      <td>72.181319</td>\n",
       "      <td>72.181319</td>\n",
       "      <td>72.181319</td>\n",
       "      <td>72.181319</td>\n",
       "      <td>72.181319</td>\n",
       "    </tr>\n",
       "    <tr>\n",
       "      <th>372515</th>\n",
       "      <td>57.745056</td>\n",
       "      <td>57.745056</td>\n",
       "      <td>72.181319</td>\n",
       "      <td>72.181319</td>\n",
       "      <td>72.181319</td>\n",
       "      <td>72.181319</td>\n",
       "      <td>72.181319</td>\n",
       "      <td>72.181319</td>\n",
       "    </tr>\n",
       "    <tr>\n",
       "      <th>372516</th>\n",
       "      <td>57.745056</td>\n",
       "      <td>72.181319</td>\n",
       "      <td>72.181319</td>\n",
       "      <td>72.181319</td>\n",
       "      <td>72.181319</td>\n",
       "      <td>72.181319</td>\n",
       "      <td>72.181319</td>\n",
       "      <td>72.181319</td>\n",
       "    </tr>\n",
       "    <tr>\n",
       "      <th>372517</th>\n",
       "      <td>72.181319</td>\n",
       "      <td>72.181319</td>\n",
       "      <td>72.181319</td>\n",
       "      <td>72.181319</td>\n",
       "      <td>72.181319</td>\n",
       "      <td>72.181319</td>\n",
       "      <td>72.181319</td>\n",
       "      <td>72.181319</td>\n",
       "    </tr>\n",
       "  </tbody>\n",
       "</table>\n",
       "<p>380148 rows × 8 columns</p>\n",
       "</div>"
      ],
      "text/plain": [
       "             day1       day2       day3       day4       day5       day6  \\\n",
       "0        0.000000   0.101975   0.142764   0.224344   0.591452   0.795401   \n",
       "1        0.101975   0.142764   0.224344   0.591452   0.795401   1.040140   \n",
       "2        0.142764   0.224344   0.591452   0.795401   1.040140   1.590803   \n",
       "3        0.224344   0.591452   0.795401   1.040140   1.590803   2.161860   \n",
       "4        0.591452   0.795401   1.040140   1.590803   2.161860   2.671733   \n",
       "...           ...        ...        ...        ...        ...        ...   \n",
       "372513  57.745056  57.745056  57.745056  57.745056  72.181319  72.181319   \n",
       "372514  57.745056  57.745056  57.745056  72.181319  72.181319  72.181319   \n",
       "372515  57.745056  57.745056  72.181319  72.181319  72.181319  72.181319   \n",
       "372516  57.745056  72.181319  72.181319  72.181319  72.181319  72.181319   \n",
       "372517  72.181319  72.181319  72.181319  72.181319  72.181319  72.181319   \n",
       "\n",
       "             day7       day8  \n",
       "0        1.040140   1.590803  \n",
       "1        1.590803   2.161860  \n",
       "2        2.161860   2.671733  \n",
       "3        2.671733   3.202000  \n",
       "4        3.202000   3.997402  \n",
       "...           ...        ...  \n",
       "372513  72.181319  72.181319  \n",
       "372514  72.181319  72.181319  \n",
       "372515  72.181319  72.181319  \n",
       "372516  72.181319  72.181319  \n",
       "372517  72.181319  72.181319  \n",
       "\n",
       "[380148 rows x 8 columns]"
      ]
     },
     "execution_count": 31,
     "metadata": {},
     "output_type": "execute_result"
    }
   ],
   "source": [
    "cases_popcorrected"
   ]
  },
  {
   "cell_type": "code",
   "execution_count": 32,
   "metadata": {},
   "outputs": [
    {
     "data": {
      "text/html": [
       "<div>\n",
       "<style scoped>\n",
       "    .dataframe tbody tr th:only-of-type {\n",
       "        vertical-align: middle;\n",
       "    }\n",
       "\n",
       "    .dataframe tbody tr th {\n",
       "        vertical-align: top;\n",
       "    }\n",
       "\n",
       "    .dataframe thead th {\n",
       "        text-align: right;\n",
       "    }\n",
       "</style>\n",
       "<table border=\"1\" class=\"dataframe\">\n",
       "  <thead>\n",
       "    <tr style=\"text-align: right;\">\n",
       "      <th></th>\n",
       "      <th>casesday1</th>\n",
       "      <th>casesday2</th>\n",
       "      <th>casesday3</th>\n",
       "      <th>casesday4</th>\n",
       "      <th>casesday5</th>\n",
       "      <th>casesday6</th>\n",
       "      <th>casesday7</th>\n",
       "      <th>day1</th>\n",
       "      <th>day2</th>\n",
       "      <th>day3</th>\n",
       "      <th>day4</th>\n",
       "      <th>day5</th>\n",
       "      <th>day6</th>\n",
       "      <th>day7</th>\n",
       "      <th>day8</th>\n",
       "    </tr>\n",
       "  </thead>\n",
       "  <tbody>\n",
       "    <tr>\n",
       "      <th>0</th>\n",
       "      <td>4.935567</td>\n",
       "      <td>7.770459</td>\n",
       "      <td>10.544167</td>\n",
       "      <td>11.971810</td>\n",
       "      <td>14.154065</td>\n",
       "      <td>16.825798</td>\n",
       "      <td>18.335021</td>\n",
       "      <td>0.000000</td>\n",
       "      <td>0.020395</td>\n",
       "      <td>0.020395</td>\n",
       "      <td>0.081580</td>\n",
       "      <td>0.081580</td>\n",
       "      <td>0.203949</td>\n",
       "      <td>0.203949</td>\n",
       "      <td>0.469083</td>\n",
       "    </tr>\n",
       "    <tr>\n",
       "      <th>1</th>\n",
       "      <td>7.770459</td>\n",
       "      <td>10.544167</td>\n",
       "      <td>11.971810</td>\n",
       "      <td>14.154065</td>\n",
       "      <td>16.825798</td>\n",
       "      <td>18.335021</td>\n",
       "      <td>20.129773</td>\n",
       "      <td>0.020395</td>\n",
       "      <td>0.020395</td>\n",
       "      <td>0.081580</td>\n",
       "      <td>0.081580</td>\n",
       "      <td>0.203949</td>\n",
       "      <td>0.203949</td>\n",
       "      <td>0.469083</td>\n",
       "      <td>0.550662</td>\n",
       "    </tr>\n",
       "    <tr>\n",
       "      <th>2</th>\n",
       "      <td>10.544167</td>\n",
       "      <td>11.971810</td>\n",
       "      <td>14.154065</td>\n",
       "      <td>16.825798</td>\n",
       "      <td>18.335021</td>\n",
       "      <td>20.129773</td>\n",
       "      <td>21.618601</td>\n",
       "      <td>0.020395</td>\n",
       "      <td>0.081580</td>\n",
       "      <td>0.081580</td>\n",
       "      <td>0.203949</td>\n",
       "      <td>0.203949</td>\n",
       "      <td>0.469083</td>\n",
       "      <td>0.550662</td>\n",
       "      <td>0.652637</td>\n",
       "    </tr>\n",
       "    <tr>\n",
       "      <th>3</th>\n",
       "      <td>11.971810</td>\n",
       "      <td>14.154065</td>\n",
       "      <td>16.825798</td>\n",
       "      <td>18.335021</td>\n",
       "      <td>20.129773</td>\n",
       "      <td>21.618601</td>\n",
       "      <td>25.146920</td>\n",
       "      <td>0.081580</td>\n",
       "      <td>0.081580</td>\n",
       "      <td>0.203949</td>\n",
       "      <td>0.203949</td>\n",
       "      <td>0.469083</td>\n",
       "      <td>0.550662</td>\n",
       "      <td>0.652637</td>\n",
       "      <td>0.775006</td>\n",
       "    </tr>\n",
       "    <tr>\n",
       "      <th>4</th>\n",
       "      <td>14.154065</td>\n",
       "      <td>16.825798</td>\n",
       "      <td>18.335021</td>\n",
       "      <td>20.129773</td>\n",
       "      <td>21.618601</td>\n",
       "      <td>25.146920</td>\n",
       "      <td>30.490385</td>\n",
       "      <td>0.081580</td>\n",
       "      <td>0.203949</td>\n",
       "      <td>0.203949</td>\n",
       "      <td>0.469083</td>\n",
       "      <td>0.550662</td>\n",
       "      <td>0.652637</td>\n",
       "      <td>0.775006</td>\n",
       "      <td>0.897376</td>\n",
       "    </tr>\n",
       "    <tr>\n",
       "      <th>...</th>\n",
       "      <td>...</td>\n",
       "      <td>...</td>\n",
       "      <td>...</td>\n",
       "      <td>...</td>\n",
       "      <td>...</td>\n",
       "      <td>...</td>\n",
       "      <td>...</td>\n",
       "      <td>...</td>\n",
       "      <td>...</td>\n",
       "      <td>...</td>\n",
       "      <td>...</td>\n",
       "      <td>...</td>\n",
       "      <td>...</td>\n",
       "      <td>...</td>\n",
       "      <td>...</td>\n",
       "    </tr>\n",
       "    <tr>\n",
       "      <th>197613</th>\n",
       "      <td>260.509177</td>\n",
       "      <td>260.509177</td>\n",
       "      <td>260.509177</td>\n",
       "      <td>260.509177</td>\n",
       "      <td>260.509177</td>\n",
       "      <td>260.509177</td>\n",
       "      <td>260.509177</td>\n",
       "      <td>11.841326</td>\n",
       "      <td>11.841326</td>\n",
       "      <td>11.841326</td>\n",
       "      <td>11.841326</td>\n",
       "      <td>11.841326</td>\n",
       "      <td>11.841326</td>\n",
       "      <td>11.841326</td>\n",
       "      <td>11.841326</td>\n",
       "    </tr>\n",
       "    <tr>\n",
       "      <th>197614</th>\n",
       "      <td>260.509177</td>\n",
       "      <td>260.509177</td>\n",
       "      <td>260.509177</td>\n",
       "      <td>260.509177</td>\n",
       "      <td>260.509177</td>\n",
       "      <td>260.509177</td>\n",
       "      <td>260.509177</td>\n",
       "      <td>11.841326</td>\n",
       "      <td>11.841326</td>\n",
       "      <td>11.841326</td>\n",
       "      <td>11.841326</td>\n",
       "      <td>11.841326</td>\n",
       "      <td>11.841326</td>\n",
       "      <td>11.841326</td>\n",
       "      <td>11.841326</td>\n",
       "    </tr>\n",
       "    <tr>\n",
       "      <th>197615</th>\n",
       "      <td>260.509177</td>\n",
       "      <td>260.509177</td>\n",
       "      <td>260.509177</td>\n",
       "      <td>260.509177</td>\n",
       "      <td>260.509177</td>\n",
       "      <td>260.509177</td>\n",
       "      <td>260.509177</td>\n",
       "      <td>11.841326</td>\n",
       "      <td>11.841326</td>\n",
       "      <td>11.841326</td>\n",
       "      <td>11.841326</td>\n",
       "      <td>11.841326</td>\n",
       "      <td>11.841326</td>\n",
       "      <td>11.841326</td>\n",
       "      <td>11.841326</td>\n",
       "    </tr>\n",
       "    <tr>\n",
       "      <th>197616</th>\n",
       "      <td>260.509177</td>\n",
       "      <td>260.509177</td>\n",
       "      <td>260.509177</td>\n",
       "      <td>260.509177</td>\n",
       "      <td>260.509177</td>\n",
       "      <td>260.509177</td>\n",
       "      <td>260.509177</td>\n",
       "      <td>11.841326</td>\n",
       "      <td>11.841326</td>\n",
       "      <td>11.841326</td>\n",
       "      <td>11.841326</td>\n",
       "      <td>11.841326</td>\n",
       "      <td>11.841326</td>\n",
       "      <td>11.841326</td>\n",
       "      <td>11.841326</td>\n",
       "    </tr>\n",
       "    <tr>\n",
       "      <th>197617</th>\n",
       "      <td>260.509177</td>\n",
       "      <td>260.509177</td>\n",
       "      <td>260.509177</td>\n",
       "      <td>260.509177</td>\n",
       "      <td>260.509177</td>\n",
       "      <td>260.509177</td>\n",
       "      <td>260.509177</td>\n",
       "      <td>11.841326</td>\n",
       "      <td>11.841326</td>\n",
       "      <td>11.841326</td>\n",
       "      <td>11.841326</td>\n",
       "      <td>11.841326</td>\n",
       "      <td>11.841326</td>\n",
       "      <td>11.841326</td>\n",
       "      <td>11.841326</td>\n",
       "    </tr>\n",
       "  </tbody>\n",
       "</table>\n",
       "<p>204455 rows × 15 columns</p>\n",
       "</div>"
      ],
      "text/plain": [
       "         casesday1   casesday2   casesday3   casesday4   casesday5  \\\n",
       "0         4.935567    7.770459   10.544167   11.971810   14.154065   \n",
       "1         7.770459   10.544167   11.971810   14.154065   16.825798   \n",
       "2        10.544167   11.971810   14.154065   16.825798   18.335021   \n",
       "3        11.971810   14.154065   16.825798   18.335021   20.129773   \n",
       "4        14.154065   16.825798   18.335021   20.129773   21.618601   \n",
       "...            ...         ...         ...         ...         ...   \n",
       "197613  260.509177  260.509177  260.509177  260.509177  260.509177   \n",
       "197614  260.509177  260.509177  260.509177  260.509177  260.509177   \n",
       "197615  260.509177  260.509177  260.509177  260.509177  260.509177   \n",
       "197616  260.509177  260.509177  260.509177  260.509177  260.509177   \n",
       "197617  260.509177  260.509177  260.509177  260.509177  260.509177   \n",
       "\n",
       "         casesday6   casesday7       day1       day2       day3       day4  \\\n",
       "0        16.825798   18.335021   0.000000   0.020395   0.020395   0.081580   \n",
       "1        18.335021   20.129773   0.020395   0.020395   0.081580   0.081580   \n",
       "2        20.129773   21.618601   0.020395   0.081580   0.081580   0.203949   \n",
       "3        21.618601   25.146920   0.081580   0.081580   0.203949   0.203949   \n",
       "4        25.146920   30.490385   0.081580   0.203949   0.203949   0.469083   \n",
       "...            ...         ...        ...        ...        ...        ...   \n",
       "197613  260.509177  260.509177  11.841326  11.841326  11.841326  11.841326   \n",
       "197614  260.509177  260.509177  11.841326  11.841326  11.841326  11.841326   \n",
       "197615  260.509177  260.509177  11.841326  11.841326  11.841326  11.841326   \n",
       "197616  260.509177  260.509177  11.841326  11.841326  11.841326  11.841326   \n",
       "197617  260.509177  260.509177  11.841326  11.841326  11.841326  11.841326   \n",
       "\n",
       "             day5       day6       day7       day8  \n",
       "0        0.081580   0.203949   0.203949   0.469083  \n",
       "1        0.203949   0.203949   0.469083   0.550662  \n",
       "2        0.203949   0.469083   0.550662   0.652637  \n",
       "3        0.469083   0.550662   0.652637   0.775006  \n",
       "4        0.550662   0.652637   0.775006   0.897376  \n",
       "...           ...        ...        ...        ...  \n",
       "197613  11.841326  11.841326  11.841326  11.841326  \n",
       "197614  11.841326  11.841326  11.841326  11.841326  \n",
       "197615  11.841326  11.841326  11.841326  11.841326  \n",
       "197616  11.841326  11.841326  11.841326  11.841326  \n",
       "197617  11.841326  11.841326  11.841326  11.841326  \n",
       "\n",
       "[204455 rows x 15 columns]"
      ]
     },
     "execution_count": 32,
     "metadata": {},
     "output_type": "execute_result"
    }
   ],
   "source": [
    "deaths_popcorrected"
   ]
  },
  {
   "cell_type": "code",
   "execution_count": null,
   "metadata": {},
   "outputs": [],
   "source": []
  }
 ],
 "metadata": {
  "kernelspec": {
   "display_name": "Python [conda env:PythonData] *",
   "language": "python",
   "name": "conda-env-PythonData-py"
  },
  "language_info": {
   "codemirror_mode": {
    "name": "ipython",
    "version": 3
   },
   "file_extension": ".py",
   "mimetype": "text/x-python",
   "name": "python",
   "nbconvert_exporter": "python",
   "pygments_lexer": "ipython3",
   "version": "3.7.6"
  }
 },
 "nbformat": 4,
 "nbformat_minor": 4
}
