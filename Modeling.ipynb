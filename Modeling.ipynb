{
 "cells": [
  {
   "cell_type": "code",
   "execution_count": 1,
   "metadata": {
    "scrolled": true
   },
   "outputs": [
    {
     "name": "stderr",
     "output_type": "stream",
     "text": [
      "Using TensorFlow backend.\n"
     ]
    }
   ],
   "source": [
    "# Dependencies and Setup\n",
    "from bs4 import BeautifulSoup as bs\n",
    "import pandas as pd\n",
    "import requests\n",
    "import re\n",
    "import time \n",
    "import datetime \n",
    "import numpy as np\n",
    "from config1 import username1,password1,host1,port1,database1,census_key\n",
    "import sqlalchemy\n",
    "from sqlalchemy import create_engine, func, inspect, desc\n",
    "pd.options.mode.chained_assignment = None  # default='warn'\n",
    "import requests\n",
    "import json\n",
    "from pandas.io.json import json_normalize\n",
    "from timeit import default_timer as timer\n",
    "from census import Census\n",
    "from us import states\n",
    "import matplotlib.pyplot as plt\n",
    "import seaborn as sb\n",
    "from sklearn.model_selection import train_test_split\n",
    "import os\n",
    "import tensorflow as tf\n",
    "from tensorflow.keras.models import Sequential\n",
    "from tensorflow.keras.utils import to_categorical\n",
    "from tensorflow.keras.layers import Dense\n",
    "from keras.callbacks import ModelCheckpoint\n",
    "import statistics\n",
    "import math"
   ]
  },
  {
   "cell_type": "code",
   "execution_count": 2,
   "metadata": {},
   "outputs": [
    {
     "name": "stdout",
     "output_type": "stream",
     "text": [
      "4.9153925\n"
     ]
    }
   ],
   "source": [
    "# Database Setup\n",
    "start = timer()\n",
    "connection1=f'{username1}:{password1}@{host1}:{port1}/{database1}'\n",
    "engine1 = create_engine(f'postgresql://{connection1}')\n",
    "\n",
    "# Pull Data\n",
    "orders=pd.read_sql_query('select * from orders', con=engine1)\n",
    "state_heatmap=pd.read_sql_query('select * from state_heatmap', con=engine1)\n",
    "county_heatmap=pd.read_sql_query('select * from county_heatmap', con=engine1)\n",
    "state_cases=pd.read_sql_query('select * from state_cases', con=engine1)\n",
    "state_deaths=pd.read_sql_query('select * from state_deaths', con=engine1)\n",
    "county_cases1=pd.read_sql_query('select * from county_cases1', con=engine1)\n",
    "county_cases2=pd.read_sql_query('select * from county_cases2', con=engine1)\n",
    "county_cases3=pd.read_sql_query('select * from county_cases3', con=engine1)\n",
    "county_cases4=pd.read_sql_query('select * from county_cases4', con=engine1)\n",
    "county_cases5=pd.read_sql_query('select * from county_cases5', con=engine1)\n",
    "county_deaths1=pd.read_sql_query('select * from county_deaths1', con=engine1)\n",
    "county_deaths2=pd.read_sql_query('select * from county_deaths2', con=engine1)\n",
    "county_deaths3=pd.read_sql_query('select * from county_deaths3', con=engine1)\n",
    "county_deaths4=pd.read_sql_query('select * from county_deaths4', con=engine1)\n",
    "county_deaths5=pd.read_sql_query('select * from county_deaths5', con=engine1)\n",
    "# Concats\n",
    "county_cases=pd.concat([county_cases1,county_cases2,county_cases3,county_cases4,county_cases5], ignore_index=True)\n",
    "county_deaths=pd.concat([county_deaths1,county_deaths2,county_deaths3,county_deaths4,county_deaths5], ignore_index=True)\n",
    "end = timer()\n",
    "print(end - start)"
   ]
  },
  {
   "cell_type": "code",
   "execution_count": 3,
   "metadata": {},
   "outputs": [
    {
     "name": "stdout",
     "output_type": "stream",
     "text": [
      "3.5323584000000015\n"
     ]
    },
    {
     "name": "stderr",
     "output_type": "stream",
     "text": [
      "C:\\Users\\Henry Randall\\Anaconda3\\envs\\PythonData\\lib\\site-packages\\ipykernel_launcher.py:26: FutureWarning: Indexing with multiple keys (implicitly converted to a tuple of keys) will be deprecated, use a list instead.\n",
      "C:\\Users\\Henry Randall\\Anaconda3\\envs\\PythonData\\lib\\site-packages\\ipykernel_launcher.py:28: FutureWarning: Indexing with multiple keys (implicitly converted to a tuple of keys) will be deprecated, use a list instead.\n"
     ]
    }
   ],
   "source": [
    "# Call Cencus Data\n",
    "start = timer()\n",
    "c = Census(census_key, year=2018)\n",
    "census_data = c.acs5.get(('B01003_001E', 'B17001_002E','B19013_001E','B01001A_002E','B01001A_017E','B01002_001E','B02001_001E',\n",
    "                          'B02001_003E','B03001_003E'), {'for': 'county:*'})\n",
    "\n",
    "# Convert to DataFrame\n",
    "census_df = pd.DataFrame(census_data)\n",
    "\n",
    "# Column Reordering\n",
    "census_df= census_df.rename(columns={'B01003_001E': 'Population',\n",
    "                                     'B17001_002E': 'Poverty Count',\n",
    "                                     'B19013_001E': 'Median Household Income',\n",
    "                                     'B01001A_002E': 'male pop',\n",
    "                                     'B01001A_017E':'female pop',\n",
    "                                     'B01002_001E': 'median age',\n",
    "                                     'B02001_001E': 'total race pop',\n",
    "                                     'B02001_003E': 'black pop',\n",
    "                                     'B03001_003E': 'hispanic pop',\n",
    "                                     'state':'State',\n",
    "                                     'county':'County'})\n",
    "census_df['fips']=census_df['State']+census_df['County']\n",
    "census_df['%male']=census_df['male pop']/(census_df['male pop']+census_df['female pop'])\n",
    "census_df['%black']=census_df['black pop']/(census_df['total race pop'])\n",
    "census_df['%hispanic']=census_df['hispanic pop']/(census_df['total race pop'])\n",
    "state_census1=census_df.groupby(\"State\")[\"Population\",'Poverty Count','male pop','female pop','total race pop',\n",
    "                                        'black pop','hispanic pop'].sum()\n",
    "state_census2=census_df.groupby(\"State\")[\"Median Household Income\",'median age'].mean()\n",
    "state_census1['%male']=state_census1['male pop']/(state_census1['male pop']+state_census1['female pop'])\n",
    "state_census1['%black']=state_census1['black pop']/(state_census1['total race pop'])\n",
    "state_census1['%hispanic']=state_census1['hispanic pop']/(state_census1['total race pop'])\n",
    "census_df=census_df.drop(['male pop','female pop','total race pop','black pop','hispanic pop'], axis=1)\n",
    "state_census1=state_census1.drop(['male pop','female pop','total race pop','black pop','hispanic pop'], axis=1)\n",
    "state_census1=state_census1.reset_index()\n",
    "state_census2=state_census2.reset_index()\n",
    "state_census1=state_census1.rename(columns={'State':'fips'})\n",
    "state_census2=state_census2.rename(columns={'State':'fips'})\n",
    "state_census=state_census1.merge(state_census2,on='fips')\n",
    "end = timer()\n",
    "print(end - start)"
   ]
  },
  {
   "cell_type": "code",
   "execution_count": 4,
   "metadata": {},
   "outputs": [
    {
     "name": "stdout",
     "output_type": "stream",
     "text": [
      "0.9767887000000002\n"
     ]
    }
   ],
   "source": [
    "start = timer()\n",
    "state_area={}\n",
    "with open('stateborders.json') as json_file:\n",
    "    data = json.load(json_file)\n",
    "data=data['features']\n",
    "k=0\n",
    "for state in data:\n",
    "    state_area[k] = {\"state\":data[k]['properties']['NAME'],\"fips\": data[k]['properties']['STATE'],\n",
    "                     \"area\": data[k]['properties']['CENSUSAREA']}\n",
    "    k=k+1\n",
    "state_area = pd.DataFrame.from_dict(state_area, \"index\")\n",
    "\n",
    "county_area={}\n",
    "with open('countyborders.json') as json_file:\n",
    "    data = json.load(json_file)\n",
    "data=data['features']\n",
    "k=0\n",
    "for county in data:\n",
    "    county_area[k] = {\"fips\": (data[k]['properties']['STATE'])+(data[k]['properties']['COUNTY']),\n",
    "                      \"area\": data[k]['properties']['CENSUSAREA']}\n",
    "    k=k+1\n",
    "county_area = pd.DataFrame.from_dict(county_area, \"index\")\n",
    "end = timer()\n",
    "print(end - start)"
   ]
  },
  {
   "cell_type": "code",
   "execution_count": 5,
   "metadata": {},
   "outputs": [
    {
     "name": "stdout",
     "output_type": "stream",
     "text": [
      "0.01208669999999934\n"
     ]
    }
   ],
   "source": [
    "start = timer()\n",
    "state_census=state_census.merge(state_area, on='fips')\n",
    "state_census.iloc[8,8]='District Of Columbia'\n",
    "county_census=census_df.merge(county_area, on='fips')\n",
    "county_census.iloc[291,1]=10300\n",
    "county_census.iloc[291,2]=33422\n",
    "state_census['Poverty Rate'] = 100 * \\\n",
    "    state_census['Poverty Count'].astype(\n",
    "        int) / state_census['Population'].astype(int)\n",
    "state_census['Population Density'] = 1 * \\\n",
    "    state_census['Population'].astype(\n",
    "        int) / state_census['area'].astype(int)\n",
    "state_census=state_census.drop(['Poverty Count','area'], axis=1)\n",
    "# Convert Poverty Copunt to Poverty Rate (Poverty Count / Population)\n",
    "county_census['Poverty Rate'] = 100 * \\\n",
    "    county_census['Poverty Count'].astype(\n",
    "        int) / county_census['Population'].astype(int)\n",
    "county_census['Population Density'] = 1 * \\\n",
    "    county_census['Population'].astype(\n",
    "        int) / county_census['area'].astype(int)\n",
    "county_census=county_census.drop(['Poverty Count','area','State','County'], axis=1)\n",
    "end = timer()\n",
    "print(end - start)"
   ]
  },
  {
   "cell_type": "code",
   "execution_count": 6,
   "metadata": {},
   "outputs": [],
   "source": [
    "state_census.iloc[8,7]='District of Columbia'\n",
    "county_heatmap=county_heatmap.merge(county_census,on='fips')\n",
    "state_heatmap=state_heatmap.merge(state_census,on='state')"
   ]
  },
  {
   "cell_type": "code",
   "execution_count": 7,
   "metadata": {},
   "outputs": [],
   "source": [
    "latdata_url='https://raw.githubusercontent.com/CSSEGISandData/COVID-19/master/csse_covid_19_data/csse_covid_19_time_series/time_series_covid19_confirmed_US.csv'\n",
    "latdata=pd.read_csv(latdata_url, error_bad_lines=False)\n",
    "latdata=latdata.rename(columns={'Province_State': 'State'})\n",
    "latdata=latdata.reset_index()\n",
    "latdata=latdata.drop(columns=['index'])\n",
    "latdata.dropna(subset = [\"Admin2\"], inplace=True)\n",
    "latdata=latdata[latdata.Admin2 != 'Unassigned']\n",
    "latdata=latdata.dropna()\n",
    "latdata=latdata[~latdata['Admin2'].astype(str).str.startswith('Out of')]\n",
    "latdata=latdata[latdata.Admin2 != 'Out of*']\n",
    "latdata=latdata.reset_index()\n",
    "latdata['FIPS']=latdata.FIPS.map('{0:0>5.0f}'.format)\n",
    "latdata=latdata[['State','FIPS','Lat','Long_']]\n",
    "state_latdata=latdata.groupby('State').mean()\n",
    "latdata=latdata.drop(columns=['State'])\n",
    "state_latdata=state_latdata.reset_index()"
   ]
  },
  {
   "cell_type": "code",
   "execution_count": 8,
   "metadata": {},
   "outputs": [
    {
     "name": "stdout",
     "output_type": "stream",
     "text": [
      "18.7260801\n",
      "18.585721000000007\n"
     ]
    }
   ],
   "source": [
    "#Find daily totals - county cases\n",
    "start = timer()\n",
    "county_cases_daily=county_cases.copy()\n",
    "[r,c]=county_cases_daily.shape\n",
    "for j in range (0,r):\n",
    "    last=0\n",
    "    for i in range (3,c):\n",
    "        current=county_cases_daily.iloc[j,i]-last\n",
    "        last=county_cases_daily.iloc[j,i]\n",
    "        county_cases_daily.iat[j,i]=current\n",
    "end = timer()\n",
    "print(end - start)        \n",
    "\n",
    "start = timer()\n",
    "#Find daily totals - county deaths\n",
    "county_deaths_daily=county_deaths.copy()\n",
    "[r,c]=county_deaths_daily.shape\n",
    "for j in range (0,r):\n",
    "    last=0\n",
    "    for i in range (3,c):\n",
    "        current=county_deaths_daily.iloc[j,i]-last\n",
    "        last=county_deaths_daily.iloc[j,i]\n",
    "        county_deaths_daily.iat[j,i]=current\n",
    "end = timer()\n",
    "print(end - start)"
   ]
  },
  {
   "cell_type": "code",
   "execution_count": 9,
   "metadata": {},
   "outputs": [
    {
     "name": "stdout",
     "output_type": "stream",
     "text": [
      "0.3094074000000049\n",
      "0.36252539999999556\n"
     ]
    }
   ],
   "source": [
    "#Find daily totals - state cases\n",
    "start = timer()\n",
    "state_cases_daily=state_cases.copy()\n",
    "[r,c]=state_cases_daily.shape\n",
    "for j in range (0,r):\n",
    "    last=0\n",
    "    for i in range (2,c):\n",
    "        current=state_cases_daily.iloc[j,i]-last\n",
    "        last=state_cases_daily.iloc[j,i]\n",
    "        state_cases_daily.iat[j,i]=current\n",
    "end = timer()\n",
    "print(end - start)\n",
    "\n",
    "#Find daily totals - state deaths\n",
    "start = timer()\n",
    "state_deaths_daily=state_deaths.copy()\n",
    "[r,c]=state_deaths_daily.shape\n",
    "for j in range (0,r):\n",
    "    last=0\n",
    "    for i in range (2,c):\n",
    "        current=state_deaths_daily.iloc[j,i]-last\n",
    "        last=state_deaths_daily.iloc[j,i]\n",
    "        state_deaths_daily.iat[j,i]=current\n",
    "end = timer()\n",
    "print(end - start)"
   ]
  },
  {
   "cell_type": "code",
   "execution_count": 10,
   "metadata": {},
   "outputs": [
    {
     "name": "stdout",
     "output_type": "stream",
     "text": [
      "332.2099207\n",
      "332.72613839999997\n"
     ]
    }
   ],
   "source": [
    "#Find 7day totals - county cases\n",
    "start = timer()\n",
    "county_cases_7day=county_cases_daily.copy()\n",
    "[r,c]=county_cases_7day.shape\n",
    "for j in range (0,r):\n",
    "    for i in range (9,c):\n",
    "        county_cases_7day.iloc[j,i]=statistics.mean([county_cases_daily.iloc[j,i-6],county_cases_daily.iloc[j,i-5],\n",
    "                county_cases_daily.iloc[j,i-4],county_cases_daily.iloc[j,i-3],county_cases_daily.iloc[j,i-3],\n",
    "                county_cases_daily.iloc[j,i-1],county_cases_daily.iloc[j,i]])\n",
    "county_cases_7day = county_cases_7day.drop(county_cases_7day.columns[3:9],axis=1)\n",
    "end = timer()\n",
    "print(end - start)\n",
    "\n",
    "start = timer()\n",
    "#Find 7day totals - county deaths\n",
    "county_deaths_7day=county_deaths_daily.copy()\n",
    "[r,c]=county_deaths_7day.shape\n",
    "for j in range (0,r):\n",
    "    last=0\n",
    "    for i in range (9,c):\n",
    "        county_deaths_7day.iloc[j,i]=statistics.mean([county_deaths_daily.iloc[j,i-6],county_deaths_daily.iloc[j,i-5],\n",
    "                county_deaths_daily.iloc[j,i-4],county_deaths_daily.iloc[j,i-3],county_deaths_daily.iloc[j,i-3],\n",
    "                county_deaths_daily.iloc[j,i-1],county_deaths_daily.iloc[j,i]])\n",
    "county_deaths_7day = county_deaths_7day.drop(county_deaths_7day.columns[3:9],axis=1)\n",
    "end = timer()\n",
    "print(end - start)"
   ]
  },
  {
   "cell_type": "code",
   "execution_count": 11,
   "metadata": {},
   "outputs": [
    {
     "name": "stdout",
     "output_type": "stream",
     "text": [
      "5.3449296\n",
      "5.358989700000052\n"
     ]
    }
   ],
   "source": [
    "#Find 7day totals - state cases\n",
    "start = timer()\n",
    "state_cases_7day=state_cases_daily.copy()\n",
    "[r,c]=state_cases_7day.shape\n",
    "for j in range (0,r):\n",
    "    for i in range (7,c):\n",
    "        state_cases_7day.iloc[j,i]=statistics.mean([state_cases_daily.iloc[j,i-6],state_cases_daily.iloc[j,i-5],\n",
    "                state_cases_daily.iloc[j,i-4],state_cases_daily.iloc[j,i-3],state_cases_daily.iloc[j,i-2],\n",
    "                state_cases_daily.iloc[j,i-1],state_cases_daily.iloc[j,i]])\n",
    "state_cases_7day = state_cases_7day.drop(state_cases_7day.columns[1:7],axis=1)\n",
    "end = timer()\n",
    "print(end - start)\n",
    "\n",
    "start = timer()\n",
    "#Find 7day totals - county deaths\n",
    "state_deaths_7day=state_deaths_daily.copy()\n",
    "[r,c]=state_deaths_7day.shape\n",
    "for j in range (0,r):\n",
    "    last=0\n",
    "    for i in range (7,c):\n",
    "        state_deaths_7day.iloc[j,i]=statistics.mean([state_deaths_daily.iloc[j,i-6],state_deaths_daily.iloc[j,i-5],\n",
    "                state_deaths_daily.iloc[j,i-4],state_deaths_daily.iloc[j,i-3],state_deaths_daily.iloc[j,i-2],\n",
    "                state_deaths_daily.iloc[j,i-1],state_deaths_daily.iloc[j,i]])\n",
    "state_deaths_7day = state_deaths_7day.drop(state_deaths_7day.columns[1:7],axis=1)\n",
    "end = timer()\n",
    "print(end - start)"
   ]
  },
  {
   "cell_type": "code",
   "execution_count": 12,
   "metadata": {},
   "outputs": [
    {
     "name": "stdout",
     "output_type": "stream",
     "text": [
      "0.8837763000000223\n"
     ]
    }
   ],
   "source": [
    "# Proximity Cases - State\n",
    "start = timer()\n",
    "rad2_state_7day={}\n",
    "rad5_state_7day={}\n",
    "rad10_state_7day={}\n",
    "[r,c]=state_cases_7day.shape\n",
    "for j in range (0,r):\n",
    "    lat=state_latdata.iloc[j,1]\n",
    "    lon=state_latdata.iloc[j,2]\n",
    "    index2=[]\n",
    "    index5=[]\n",
    "    index10=[]\n",
    "    for k in range (0,r):\n",
    "        dist=math.sqrt(((state_latdata.iloc[k,1]-lat)**2)+((state_latdata.iloc[k,2]-lon)**2))\n",
    "        if dist<2:\n",
    "            index2.append(state_latdata.iloc[k,0])\n",
    "        if dist<5:\n",
    "            index5.append(state_latdata.iloc[k,0])\n",
    "        if dist<10:\n",
    "            index10.append(state_latdata.iloc[k,0])\n",
    "    rad2_state_7day[j]=((((state_cases_7day[state_cases_7day['State'].isin(index5)]).sum())[1:])/(((state_heatmap[state_heatmap['state'].str.lower().isin([x.lower() for x in index2])]).sum())['population']))*100000\n",
    "    rad5_state_7day[j]=((((state_cases_7day[state_cases_7day['State'].isin(index5)]).sum())[1:])/(((state_heatmap[state_heatmap['state'].str.lower().isin([x.lower() for x in index5])]).sum())['population']))*100000\n",
    "    rad10_state_7day[j]=((((state_cases_7day[state_cases_7day['State'].isin(index10)]).sum())[1:])/(((state_heatmap[state_heatmap['state'].str.lower().isin([x.lower() for x in index10])]).sum())['population']))*100000\n",
    "rad2_state_7day = pd.DataFrame.from_dict(rad2_state_7day, \"index\")\n",
    "rad2_state_7day.insert(0, 'State', state_cases_7day['State'])\n",
    "rad5_state_7day = pd.DataFrame.from_dict(rad5_state_7day, \"index\")\n",
    "rad5_state_7day.insert(0, 'State', state_cases_7day['State'])\n",
    "rad10_state_7day = pd.DataFrame.from_dict(rad10_state_7day, \"index\")\n",
    "rad10_state_7day.insert(0, 'State', state_cases_7day['State'])\n",
    "rad2_state_7day = rad2_state_7day.fillna(0)\n",
    "rad5_state_7day = rad5_state_7day.fillna(0)\n",
    "rad10_state_7day = rad10_state_7day.fillna(0)\n",
    "end = timer()\n",
    "print(end - start)"
   ]
  },
  {
   "cell_type": "code",
   "execution_count": 13,
   "metadata": {},
   "outputs": [
    {
     "name": "stdout",
     "output_type": "stream",
     "text": [
      "323.6700963999999\n"
     ]
    }
   ],
   "source": [
    "# Proximity Cases - County\n",
    "start = timer()\n",
    "rad2_county_7day={}\n",
    "rad5_county_7day={}\n",
    "rad10_county_7day={}\n",
    "[r,c]=county_cases_7day.shape\n",
    "for j in range (0,r):\n",
    "    lat=latdata.iloc[j,1]\n",
    "    lon=latdata.iloc[j,2]\n",
    "    index2=[]\n",
    "    index5=[]\n",
    "    index10=[]\n",
    "    for k in range (0,r):\n",
    "        dist=math.sqrt(((latdata.iloc[k,1]-lat)**2)+((latdata.iloc[k,2]-lon)**2))\n",
    "        if dist<2:\n",
    "            index2.append(latdata.iloc[k,0])\n",
    "        if dist<5:\n",
    "            index5.append(latdata.iloc[k,0])\n",
    "        if dist<10:\n",
    "            index10.append(latdata.iloc[k,0])\n",
    "    rad2_county_7day[j]=((((county_cases_7day[county_cases_7day['FIPS'].isin(index2)]).sum())[3:])/(((county_heatmap[county_heatmap['fips'].isin(index2)]).sum())['population']))*100000\n",
    "    rad5_county_7day[j]=((((county_cases_7day[county_cases_7day['FIPS'].isin(index5)]).sum())[3:])/(((county_heatmap[county_heatmap['fips'].isin(index5)]).sum())['population']))*100000\n",
    "    rad10_county_7day[j]=((((county_cases_7day[county_cases_7day['FIPS'].isin(index10)]).sum())[3:])/(((county_heatmap[county_heatmap['fips'].isin(index10)]).sum())['population']))*100000\n",
    "rad2_county_7day = pd.DataFrame.from_dict(rad2_county_7day, \"index\")\n",
    "rad2_county_7day.insert(0, 'FIPS', county_cases_7day['FIPS'])\n",
    "rad2_county_7day.insert(1, 'County', county_cases_7day['County'])\n",
    "rad2_county_7day.insert(2, 'State', county_cases_7day['State'])\n",
    "rad5_county_7day = pd.DataFrame.from_dict(rad5_county_7day, \"index\")\n",
    "rad5_county_7day.insert(0, 'FIPS', county_cases_7day['FIPS'])\n",
    "rad5_county_7day.insert(1, 'County', county_cases_7day['County'])\n",
    "rad5_county_7day.insert(2, 'State', county_cases_7day['State'])\n",
    "rad10_county_7day = pd.DataFrame.from_dict(rad10_county_7day, \"index\")\n",
    "rad10_county_7day.insert(0, 'FIPS', county_cases_7day['FIPS'])\n",
    "rad10_county_7day.insert(1, 'County', county_cases_7day['County'])\n",
    "rad10_county_7day.insert(2, 'State', county_cases_7day['State'])\n",
    "rad2_county_7day = rad2_county_7day.fillna(0)\n",
    "rad5_county_7day = rad5_county_7day.fillna(0)\n",
    "rad10_county_7day = rad10_county_7day.fillna(0)\n",
    "end = timer()\n",
    "print(end - start)"
   ]
  },
  {
   "cell_type": "code",
   "execution_count": 14,
   "metadata": {},
   "outputs": [
    {
     "name": "stdout",
     "output_type": "stream",
     "text": [
      "5.049692700000151\n"
     ]
    }
   ],
   "source": [
    "start = timer()\n",
    "state_cases_popcorrected={}\n",
    "k=0\n",
    "[r,c]=state_cases.shape\n",
    "for j in range (0,r):\n",
    "    pop=state_heatmap.iloc[j,3]\n",
    "    male=state_heatmap.iloc[j,14]\n",
    "    black=state_heatmap.iloc[j,15]\n",
    "    hispanic=state_heatmap.iloc[j,16]\n",
    "    mhi=state_heatmap.iloc[j,17]\n",
    "    age=state_heatmap.iloc[j,18]\n",
    "    pov=state_heatmap.iloc[j,19]\n",
    "    popden=state_heatmap.iloc[j,20]\n",
    "    for i in range (7,c-7):\n",
    "        if state_cases.iloc[j,i+1]>-1:\n",
    "            state_cases_popcorrected[k] = {\"pov\": pov,\"popden\": popden,\"pop\": pop,\"male\": male,\"black\": black,\n",
    "\"hispanic\": hispanic,\"mhi\": mhi,\"age\": age,\"day1\": (state_cases.iloc[j,i]*100000)/pop,\n",
    "\"day2\":(state_cases.iloc[j,i+1]*100000)/pop,\"day3\":(state_cases.iloc[j,i+2]*100000)/pop,\n",
    "\"day4\":(state_cases.iloc[j,i+3]*100000)/pop,\"day5\":(state_cases.iloc[j,i+4]*100000)/pop,\n",
    "\"day6\":(state_cases.iloc[j,i+5]*100000)/pop,\"day7\":(state_cases.iloc[j,i+6]*100000)/pop,\n",
    "\"7deathday1\": (state_deaths_7day.iloc[j,i-6]*100000)/pop,\n",
    "\"7deathday2\":(state_deaths_7day.iloc[j,i-5]*100000)/pop,\"7deathday3\":(state_deaths_7day.iloc[j,i-4]*100000)/pop,\n",
    "\"7deathday4\":(state_deaths_7day.iloc[j,i-3]*100000)/pop,\"7deathday5\":(state_deaths_7day.iloc[j,i-2]*100000)/pop,\n",
    "\"7deathday6\":(state_deaths_7day.iloc[j,i-1]*100000)/pop,\"7deathday7\":(state_deaths_7day.iloc[j,i]*100000)/pop,\n",
    "\"rad27day1\": (rad2_state_7day.iloc[j,i-6]),\"rad27day2\":(rad2_state_7day.iloc[j,i-5]),\n",
    "\"rad27day3\":(rad2_state_7day.iloc[j,i-4]),\"rad27day4\":(rad2_state_7day.iloc[j,i-3]),\n",
    "\"rad27day5\":(rad2_state_7day.iloc[j,i-2]),\"rad27day6\":(rad2_state_7day.iloc[j,i-1]),\n",
    "\"rad27day7\":(rad2_state_7day.iloc[j,i]),\"rad57day1\": (rad5_state_7day.iloc[j,i-6]),\n",
    "\"rad57day2\":(rad5_state_7day.iloc[j,i-5]),\"rad57day3\":(rad5_state_7day.iloc[j,i-4]),\n",
    "\"rad57day4\":(rad5_state_7day.iloc[j,i-3]),\"rad57day5\":(rad5_state_7day.iloc[j,i-2]),\n",
    "\"rad57day6\":(rad5_state_7day.iloc[j,i-1]),\"rad57day7\":(rad5_state_7day.iloc[j,i]),                                \n",
    "\"rad107day1\": (rad10_state_7day.iloc[j,i-6]),\"rad107day2\":(rad10_state_7day.iloc[j,i-5]),\n",
    "\"rad107day3\":(rad10_state_7day.iloc[j,i-4]),\"rad107day4\":(rad10_state_7day.iloc[j,i-3]),\n",
    "\"rad107day5\":(rad10_state_7day.iloc[j,i-2]),\"rad107day6\":(rad10_state_7day.iloc[j,i-1]),\n",
    "\"rad107day7\":(rad10_state_7day.iloc[j,i]),\"7day1\": (state_cases_7day.iloc[j,i-6]*100000)/pop,\n",
    "\"7day2\":(state_cases_7day.iloc[j,i-5]*100000)/pop,\"7day3\":(state_cases_7day.iloc[j,i-4]*100000)/pop,\n",
    "\"7day4\":(state_cases_7day.iloc[j,i-3]*100000)/pop,\"7day5\":(state_cases_7day.iloc[j,i-2]*100000)/pop,\n",
    "\"7day6\":(state_cases_7day.iloc[j,i-1]*100000)/pop,\"7day7\":(state_cases_7day.iloc[j,i]*100000)/pop,\n",
    "\"7day8\":(state_cases_7day.iloc[j,i+1]*100000)/pop}\n",
    "            k=k+1\n",
    "state_cases_popcorrected = pd.DataFrame.from_dict(state_cases_popcorrected, \"index\")\n",
    "end = timer()\n",
    "print(end - start)"
   ]
  },
  {
   "cell_type": "code",
   "execution_count": 15,
   "metadata": {},
   "outputs": [
    {
     "name": "stdout",
     "output_type": "stream",
     "text": [
      "4.776920700000119\n"
     ]
    }
   ],
   "source": [
    "start = timer()\n",
    "state_deaths_popcorrected={}\n",
    "k=0\n",
    "[r,c]=state_deaths.shape\n",
    "for j in range (0,r):\n",
    "    pop=state_heatmap.iloc[j,13]\n",
    "    male=state_heatmap.iloc[j,14]\n",
    "    black=state_heatmap.iloc[j,15]\n",
    "    hispanic=state_heatmap.iloc[j,16]\n",
    "    mhi=state_heatmap.iloc[j,17]\n",
    "    age=state_heatmap.iloc[j,18]\n",
    "    pov=state_heatmap.iloc[j,19]\n",
    "    popden=state_heatmap.iloc[j,20]\n",
    "    for i in range (7,c-7):\n",
    "        if state_deaths.iloc[j,i+1]>-1:\n",
    "            state_deaths_popcorrected[k] = {\"pov\": pov,\"popden\": popden,\"pop\": pop,\"male\": male,\"black\": black,\n",
    "\"hispanic\": hispanic,\"mhi\": mhi,\"age\": age,\"casesday1\":(state_cases.iloc[j,i]*100000)/pop,\n",
    "\"casesday2\":(state_cases.iloc[j,i+1]*100000)/pop,\"casesday3\":(state_cases.iloc[j,i+2]*100000)/pop,\n",
    "\"casesday4\":(state_cases.iloc[j,i+3]*100000)/pop,\"casesday5\":(state_cases.iloc[j,i+4]*100000)/pop,\n",
    "\"casesday6\":(state_cases.iloc[j,i+5]*100000)/pop,\"casesday7\":(state_cases.iloc[j,i+6]*100000)/pop,\n",
    "\"7caseday1\": (state_cases_7day.iloc[j,i-6]*100000)/pop,\"7caseday2\":(state_cases_7day.iloc[j,i-5]*100000)/pop,\n",
    "\"7caseday3\":(state_cases_7day.iloc[j,i-4]*100000)/pop,\"7caseday4\":(state_cases_7day.iloc[j,i-3]*100000)/pop,\n",
    "\"7caseday5\":(state_cases_7day.iloc[j,i-2]*100000)/pop,\"7caseday6\":(state_cases_7day.iloc[j,i-1]*100000)/pop,\n",
    "\"7caseday7\":(state_cases_7day.iloc[j,i]*100000)/pop,\"7caseday8\":(state_cases_7day.iloc[j,i+1]*100000)/pop,\n",
    "\"day1\":(state_deaths.iloc[j,i]*100000)/pop,\"day2\":(state_deaths.iloc[j,i+1]*100000)/pop,\n",
    "\"day3\":(state_deaths.iloc[j,i+2]*100000)/pop,\"day4\":(state_deaths.iloc[j,i+3]*100000)/pop,\n",
    "\"day5\":(state_deaths.iloc[j,i+4]*100000)/pop,\"day6\":(state_deaths.iloc[j,i+5]*100000)/pop,\n",
    "\"day7\":(state_deaths.iloc[j,i+6]*100000)/pop,\"7day1\": (state_deaths_7day.iloc[j,i-6]*100000)/pop,\n",
    "\"7day2\":(state_deaths_7day.iloc[j,i-5]*100000)/pop,\"7day3\":(state_deaths_7day.iloc[j,i-4]*100000)/pop,\n",
    "\"7day4\":(state_deaths_7day.iloc[j,i-3]*100000)/pop,\"7day5\":(state_deaths_7day.iloc[j,i-2]*100000)/pop,\n",
    "\"7day6\":(state_deaths_7day.iloc[j,i-1]*100000)/pop,\"7day7\":(state_deaths_7day.iloc[j,i]*100000)/pop,\n",
    "\"7day8\":(state_deaths_7day.iloc[j,i+1]*100000)/pop}\n",
    "            k=k+1\n",
    "state_deaths_popcorrected = pd.DataFrame.from_dict(state_deaths_popcorrected, \"index\")\n",
    "end = timer()\n",
    "print(end - start)"
   ]
  },
  {
   "cell_type": "code",
   "execution_count": 16,
   "metadata": {},
   "outputs": [
    {
     "name": "stdout",
     "output_type": "stream",
     "text": [
      "371.18701629999987\n"
     ]
    }
   ],
   "source": [
    "start = timer()\n",
    "county_cases_popcorrected={}\n",
    "k=0\n",
    "[r,c]=county_cases.shape\n",
    "for j in range (0,r):\n",
    "    pop=county_heatmap.iloc[j,11]\n",
    "    male=county_heatmap.iloc[j,14]\n",
    "    black=county_heatmap.iloc[j,15]\n",
    "    hispanic=county_heatmap.iloc[j,16]\n",
    "    mhi=county_heatmap.iloc[j,12]\n",
    "    age=county_heatmap.iloc[j,13]\n",
    "    pov=county_heatmap.iloc[j,17]\n",
    "    popden=county_heatmap.iloc[j,18]\n",
    "    for i in range (9,c-7):\n",
    "        if county_cases.iloc[j,i+1]>-1:\n",
    "            county_cases_popcorrected[k] = {\"pov\": pov,\"popden\": popden,\"pop\": pop,\"male\": male,\"black\": black,\n",
    "\"hispanic\": hispanic,\"mhi\": mhi,\"age\": age,\"day1\":(county_cases.iloc[j,i]*100000)/pop,\n",
    "\"day2\":(county_cases.iloc[j,i+1]*100000)/pop,\"day3\":(county_cases.iloc[j,i+2]*100000)/pop,\n",
    "\"day4\":(county_cases.iloc[j,i+3]*100000)/pop,\"day5\":(county_cases.iloc[j,i+4]*100000)/pop,\n",
    "\"day6\":(county_cases.iloc[j,i+5]*100000)/pop,\"day7\":(county_cases.iloc[j,i+6]*100000)/pop,\n",
    "\"7deathday1\": (county_deaths_7day.iloc[j,i-6]*100000)/pop,\n",
    "\"7deathday2\":(county_deaths_7day.iloc[j,i-5]*100000)/pop,\"7deathday3\":(county_deaths_7day.iloc[j,i-4]*100000)/pop,\n",
    "\"7deathday4\":(county_deaths_7day.iloc[j,i-3]*100000)/pop,\"7deathday5\":(county_deaths_7day.iloc[j,i-2]*100000)/pop,\n",
    "\"7deathday6\":(county_deaths_7day.iloc[j,i-1]*100000)/pop,\"7deathday7\":(county_deaths_7day.iloc[j,i]*100000)/pop,\n",
    "\"rad27day1\": (rad2_county_7day.iloc[j,i-6]),\"rad27day2\":(rad2_county_7day.iloc[j,i-5]),\n",
    "\"rad27day3\":(rad2_county_7day.iloc[j,i-4]),\"rad27day4\":(rad2_county_7day.iloc[j,i-3]),\n",
    "\"rad27day5\":(rad2_county_7day.iloc[j,i-2]),\"rad27day6\":(rad2_county_7day.iloc[j,i-1]),\n",
    "\"rad27day7\":(rad2_county_7day.iloc[j,i]),\"rad57day1\": (rad5_county_7day.iloc[j,i-6]),\n",
    "\"rad57day2\":(rad5_county_7day.iloc[j,i-5]),\"rad57day3\":(rad5_county_7day.iloc[j,i-4]),\n",
    "\"rad57day4\":(rad5_county_7day.iloc[j,i-3]),\"rad57day5\":(rad5_county_7day.iloc[j,i-2]),\n",
    "\"rad57day6\":(rad5_county_7day.iloc[j,i-1]),\"rad57day7\":(rad5_county_7day.iloc[j,i]),                                \n",
    "\"rad107day1\": (rad10_county_7day.iloc[j,i-6]),\"rad107day2\":(rad10_county_7day.iloc[j,i-5]),\n",
    "\"rad107day3\":(rad10_county_7day.iloc[j,i-4]),\"rad107day4\":(rad10_county_7day.iloc[j,i-3]),\n",
    "\"rad107day5\":(rad10_county_7day.iloc[j,i-2]),\"rad107day6\":(rad10_county_7day.iloc[j,i-1]),\n",
    "\"rad107day7\":(rad10_county_7day.iloc[j,i]),\"7day1\": (county_cases_7day.iloc[j,i-6]*100000)/pop,\n",
    "\"7day2\":(county_cases_7day.iloc[j,i-5]*100000)/pop,\"7day3\":(county_cases_7day.iloc[j,i-4]*100000)/pop,\n",
    "\"7day4\":(county_cases_7day.iloc[j,i-3]*100000)/pop,\"7day5\":(county_cases_7day.iloc[j,i-2]*100000)/pop,\n",
    "\"7day6\":(county_cases_7day.iloc[j,i-1]*100000)/pop,\"7day7\":(county_cases_7day.iloc[j,i]*100000)/pop,\n",
    "\"7day8\":(county_cases_7day.iloc[j,i+1]*100000)/pop}\n",
    "            k=k+1\n",
    "county_cases_popcorrected = pd.DataFrame.from_dict(county_cases_popcorrected, \"index\")\n",
    "cases_popcorrected=pd.concat([state_cases_popcorrected,county_cases_popcorrected])\n",
    "end = timer()\n",
    "print(end - start)"
   ]
  },
  {
   "cell_type": "code",
   "execution_count": 17,
   "metadata": {},
   "outputs": [
    {
     "name": "stdout",
     "output_type": "stream",
     "text": [
      "304.5169232999999\n"
     ]
    }
   ],
   "source": [
    "start = timer()\n",
    "county_deaths_popcorrected={}\n",
    "k=0\n",
    "[r,c]=county_deaths.shape\n",
    "for j in range (0,r):\n",
    "    pop=county_heatmap.iloc[j,11]\n",
    "    male=county_heatmap.iloc[j,14]\n",
    "    black=county_heatmap.iloc[j,15]\n",
    "    hispanic=county_heatmap.iloc[j,16]\n",
    "    mhi=county_heatmap.iloc[j,12]\n",
    "    age=county_heatmap.iloc[j,13]\n",
    "    pov=county_heatmap.iloc[j,17]\n",
    "    popden=county_heatmap.iloc[j,18]\n",
    "    for i in range (9,c-7):\n",
    "        if county_deaths.iloc[j,i+1]>-1:\n",
    "            county_deaths_popcorrected[k] = {\"pov\": pov,\"popden\": popden,\"pop\": pop,\"male\": male,\"black\": black,\n",
    "\"hispanic\": hispanic,\"mhi\": mhi,\"age\": age,\"casesday1\":(county_cases.iloc[j,i]*100000)/pop,\n",
    "\"casesday2\":(county_cases.iloc[j,i+1]*100000)/pop,\"casesday3\":(county_cases.iloc[j,i+2]*100000)/pop,\n",
    "\"casesday4\":(county_cases.iloc[j,i+3]*100000)/pop,\"casesday5\":(county_cases.iloc[j,i+4]*100000)/pop,\n",
    "\"casesday6\":(county_cases.iloc[j,i+5]*100000)/pop,\"casesday7\":(county_cases.iloc[j,i+6]*100000)/pop,\n",
    "\"7caseday1\": (county_cases_7day.iloc[j,i-6]*100000)/pop,\"7caseday2\":(county_cases_7day.iloc[j,i-5]*100000)/pop,\n",
    "\"7caseday3\":(county_cases_7day.iloc[j,i-4]*100000)/pop,\"7caseday4\":(county_cases_7day.iloc[j,i-3]*100000)/pop,\n",
    "\"7caseday5\":(county_cases_7day.iloc[j,i-2]*100000)/pop,\"7caseday6\":(county_cases_7day.iloc[j,i-1]*100000)/pop,\n",
    "\"7caseday7\":(county_cases_7day.iloc[j,i]*100000)/pop,\"7caseday8\":(county_cases_7day.iloc[j,i+1]*100000)/pop,\n",
    "\"day1\":(county_deaths.iloc[j,i]*100000)/pop,\"day2\":(county_deaths.iloc[j,i+1]*100000)/pop,\n",
    "\"day3\":(county_deaths.iloc[j,i+2]*100000)/pop,\"day4\":(county_deaths.iloc[j,i+3]*100000)/pop,\n",
    "\"day5\":(county_deaths.iloc[j,i+4]*100000)/pop,\"day6\":(county_deaths.iloc[j,i+5]*100000)/pop,\n",
    "\"day7\":(county_deaths.iloc[j,i+6]*100000)/pop,\"7day1\": (county_deaths_7day.iloc[j,i-6]*100000)/pop,\n",
    "\"7day2\":(county_deaths_7day.iloc[j,i-5]*100000)/pop,\"7day3\":(county_deaths_7day.iloc[j,i-4]*100000)/pop,\n",
    "\"7day4\":(county_deaths_7day.iloc[j,i-3]*100000)/pop,\"7day5\":(county_deaths_7day.iloc[j,i-2]*100000)/pop,\n",
    "\"7day6\":(county_deaths_7day.iloc[j,i-1]*100000)/pop,\"7day7\":(county_deaths_7day.iloc[j,i]*100000)/pop,\n",
    "\"7day8\":(county_deaths_7day.iloc[j,i+1]*100000)/pop}\n",
    "            k=k+1\n",
    "county_deaths_popcorrected = pd.DataFrame.from_dict(county_deaths_popcorrected, \"index\")\n",
    "deaths_popcorrected=pd.concat([state_deaths_popcorrected,county_deaths_popcorrected])\n",
    "end = timer()\n",
    "print(end - start)"
   ]
  },
  {
   "cell_type": "code",
   "execution_count": 18,
   "metadata": {
    "scrolled": false
   },
   "outputs": [
    {
     "data": {
      "image/png": "[encoded data removed]",
      "text/plain": [
       "<Figure size 1080x1080 with 2 Axes>"
      ]
     },
     "metadata": {
      "needs_background": "light"
     },
     "output_type": "display_data"
    }
   ],
   "source": [
    "C_mat = cases_popcorrected.corr()\n",
    "fig = plt.figure(figsize = (15,15))\n",
    "sb.heatmap(C_mat, vmax = .8, square = True)\n",
    "plt.show()"
   ]
  },
  {
   "cell_type": "code",
   "execution_count": 19,
   "metadata": {},
   "outputs": [
    {
     "data": {
      "image/png": "[encoded data removed]",
      "text/plain": [
       "<Figure size 1080x1080 with 2 Axes>"
      ]
     },
     "metadata": {
      "needs_background": "light"
     },
     "output_type": "display_data"
    }
   ],
   "source": [
    "C_mat = deaths_popcorrected.corr()\n",
    "fig = plt.figure(figsize = (15,15))\n",
    "sb.heatmap(C_mat, vmax = .8, square = True)\n",
    "plt.show()"
   ]
  },
  {
   "cell_type": "code",
   "execution_count": 20,
   "metadata": {},
   "outputs": [
    {
     "name": "stdout",
     "output_type": "stream",
     "text": [
      "(1161560, 8) (1161560, 1) (1161560, 7) (1161560, 1)\n"
     ]
    }
   ],
   "source": [
    "x= cases_popcorrected[[\"popden\",\"black\",\"hispanic\",\"age\",'day7','rad57day7','7day7']]\n",
    "y= cases_popcorrected['7day8'].values.reshape(-1, 1)\n",
    "X = deaths_popcorrected[[\"popden\",\"black\",\"hispanic\",\"mhi\",\"age\",'7caseday1','day7','7day7']]\n",
    "Y = deaths_popcorrected['7day8'].values.reshape(-1, 1)\n",
    "print(X.shape, Y.shape, x.shape,y.shape)"
   ]
  },
  {
   "cell_type": "code",
   "execution_count": 21,
   "metadata": {},
   "outputs": [],
   "source": [
    "X_train, X_test, Y_train, Y_test = train_test_split(X, Y, random_state=42)\n",
    "x_train, x_test, y_train, y_test = train_test_split(x, y, random_state=42)"
   ]
  },
  {
   "cell_type": "code",
   "execution_count": 22,
   "metadata": {
    "scrolled": false
   },
   "outputs": [
    {
     "name": "stdout",
     "output_type": "stream",
     "text": [
      "Model: \"sequential\"\n",
      "_________________________________________________________________\n",
      "Layer (type)                 Output Shape              Param #   \n",
      "=================================================================\n",
      "dense (Dense)                (None, 16)                144       \n",
      "_________________________________________________________________\n",
      "dense_1 (Dense)              (None, 32)                544       \n",
      "_________________________________________________________________\n",
      "dense_2 (Dense)              (None, 32)                1056      \n",
      "_________________________________________________________________\n",
      "dense_3 (Dense)              (None, 32)                1056      \n",
      "_________________________________________________________________\n",
      "dense_4 (Dense)              (None, 32)                1056      \n",
      "_________________________________________________________________\n",
      "dense_5 (Dense)              (None, 32)                1056      \n",
      "_________________________________________________________________\n",
      "dense_6 (Dense)              (None, 32)                1056      \n",
      "_________________________________________________________________\n",
      "dense_7 (Dense)              (None, 1)                 33        \n",
      "=================================================================\n",
      "Total params: 6,001\n",
      "Trainable params: 6,001\n",
      "Non-trainable params: 0\n",
      "_________________________________________________________________\n"
     ]
    }
   ],
   "source": [
    "model = Sequential()\n",
    "model.add(Dense(16, kernel_initializer='normal',activation='relu', input_dim=X_train.shape[1]))\n",
    "# Add a second hidden layer\n",
    "model.add(Dense(32, kernel_initializer='normal',activation='relu'))\n",
    "model.add(Dense(32, kernel_initializer='normal',activation='relu'))\n",
    "model.add(Dense(32, kernel_initializer='normal',activation='relu'))\n",
    "model.add(Dense(32, kernel_initializer='normal',activation='relu'))\n",
    "model.add(Dense(32, kernel_initializer='normal',activation='relu'))\n",
    "model.add(Dense(32, kernel_initializer='normal',activation='relu'))\n",
    "# Y_train = to_categorical(Y_train)\n",
    "# Add output layer\n",
    "model.add(Dense(1,activation='linear'))\n",
    "model.compile(loss=\"huber_loss\",optimizer=\"Adam\", metrics=['accuracy'])\n",
    "model.summary()"
   ]
  },
  {
   "cell_type": "code",
   "execution_count": 23,
   "metadata": {
    "scrolled": true
   },
   "outputs": [
    {
     "name": "stdout",
     "output_type": "stream",
     "text": [
      "WARNING:tensorflow:From C:\\Users\\Henry Randall\\Anaconda3\\envs\\PythonData\\lib\\site-packages\\tensorflow\\python\\training\\tracking\\tracking.py:111: Model.state_updates (from tensorflow.python.keras.engine.training) is deprecated and will be removed in a future version.\n",
      "Instructions for updating:\n",
      "This property should not be used in TensorFlow 2.0, as updates are applied automatically.\n",
      "WARNING:tensorflow:From C:\\Users\\Henry Randall\\Anaconda3\\envs\\PythonData\\lib\\site-packages\\tensorflow\\python\\training\\tracking\\tracking.py:111: Layer.updates (from tensorflow.python.keras.engine.base_layer) is deprecated and will be removed in a future version.\n",
      "Instructions for updating:\n",
      "This property should not be used in TensorFlow 2.0, as updates are applied automatically.\n",
      "INFO:tensorflow:Assets written to: models\\Deaths--Weights-001--0.05865--0.91531\\assets\n",
      "INFO:tensorflow:Assets written to: models\\Deaths--Weights-002--0.05744--0.91052\\assets\n",
      "INFO:tensorflow:Assets written to: models\\Deaths--Weights-003--0.05627--0.90711\\assets\n",
      "INFO:tensorflow:Assets written to: models\\Deaths--Weights-005--0.05620--0.91164\\assets\n",
      "INFO:tensorflow:Assets written to: models\\Deaths--Weights-024--0.05292--0.90718\\assets\n",
      "INFO:tensorflow:Assets written to: models\\Deaths--Weights-025--0.05153--0.90944\\assets\n",
      "INFO:tensorflow:Assets written to: models\\Deaths--Weights-027--0.04847--0.90809\\assets\n",
      "INFO:tensorflow:Assets written to: models\\Deaths--Weights-032--0.04781--0.90776\\assets\n",
      "INFO:tensorflow:Assets written to: models\\Deaths--Weights-039--0.04693--0.90659\\assets\n",
      "INFO:tensorflow:Assets written to: models\\Deaths--Weights-040--0.04657--0.90683\\assets\n",
      "INFO:tensorflow:Assets written to: models\\Deaths--Weights-064--0.04648--0.90723\\assets\n",
      "INFO:tensorflow:Assets written to: models\\Deaths--Weights-075--0.04642--0.90711\\assets\n",
      "INFO:tensorflow:Assets written to: models\\Deaths--Weights-082--0.04628--0.90686\\assets\n",
      "INFO:tensorflow:Assets written to: models\\Deaths--Weights-092--0.04628--0.90682\\assets\n",
      "INFO:tensorflow:Assets written to: models\\Deaths--Weights-100--0.04625--0.90584\\assets\n"
     ]
    },
    {
     "data": {
      "text/plain": [
       "<tensorflow.python.keras.callbacks.History at 0x1f07693b848>"
      ]
     },
     "execution_count": 23,
     "metadata": {},
     "output_type": "execute_result"
    }
   ],
   "source": [
    "checkpoint_name = \"models/Deaths--Weights-{epoch:03d}--{val_loss:.5f}--{val_accuracy:.5f}\"\n",
    "\n",
    "checkpoint = tf.keras.callbacks.ModelCheckpoint(checkpoint_name, monitor='val_loss', verbose = 0,\n",
    "                                                save_best_only = True, mode ='auto')\n",
    "# Use the training data to fit (train) the model\n",
    "model.fit(X_train,Y_train,epochs=250,shuffle=True,verbose=0,validation_split = 0.2,callbacks=[checkpoint])"
   ]
  },
  {
   "cell_type": "code",
   "execution_count": 24,
   "metadata": {},
   "outputs": [
    {
     "name": "stdout",
     "output_type": "stream",
     "text": [
      "Model: \"sequential_1\"\n",
      "_________________________________________________________________\n",
      "Layer (type)                 Output Shape              Param #   \n",
      "=================================================================\n",
      "dense_8 (Dense)              (None, 14)                112       \n",
      "_________________________________________________________________\n",
      "dense_9 (Dense)              (None, 28)                420       \n",
      "_________________________________________________________________\n",
      "dense_10 (Dense)             (None, 28)                812       \n",
      "_________________________________________________________________\n",
      "dense_11 (Dense)             (None, 28)                812       \n",
      "_________________________________________________________________\n",
      "dense_12 (Dense)             (None, 28)                812       \n",
      "_________________________________________________________________\n",
      "dense_13 (Dense)             (None, 28)                812       \n",
      "_________________________________________________________________\n",
      "dense_14 (Dense)             (None, 28)                812       \n",
      "_________________________________________________________________\n",
      "dense_15 (Dense)             (None, 1)                 29        \n",
      "=================================================================\n",
      "Total params: 4,621\n",
      "Trainable params: 4,621\n",
      "Non-trainable params: 0\n",
      "_________________________________________________________________\n"
     ]
    }
   ],
   "source": [
    "model2 = Sequential()\n",
    "model2.add(Dense(14, kernel_initializer='normal',activation='relu', input_dim=x_train.shape[1]))\n",
    "# Add a second hidden layer\n",
    "model2.add(Dense(28, kernel_initializer='normal',activation='relu'))\n",
    "model2.add(Dense(28, kernel_initializer='normal',activation='relu'))\n",
    "model2.add(Dense(28, kernel_initializer='normal',activation='relu'))\n",
    "model2.add(Dense(28, kernel_initializer='normal',activation='relu'))\n",
    "model2.add(Dense(28, kernel_initializer='normal',activation='relu'))\n",
    "model2.add(Dense(28, kernel_initializer='normal',activation='relu'))\n",
    "# Y_train = to_categorical(Y_train)\n",
    "# Add output layer\n",
    "model2.add(Dense(1,activation='linear'))\n",
    "model2.compile(loss=\"huber_loss\",optimizer=\"Adam\", metrics=['accuracy'])\n",
    "model2.summary()"
   ]
  },
  {
   "cell_type": "code",
   "execution_count": 25,
   "metadata": {},
   "outputs": [
    {
     "name": "stdout",
     "output_type": "stream",
     "text": [
      "INFO:tensorflow:Assets written to: models\\Cases--Weights-001--5.06312--0.38250\\assets\n",
      "INFO:tensorflow:Assets written to: models\\Cases--Weights-005--5.00884--0.38003\\assets\n",
      "INFO:tensorflow:Assets written to: models\\Cases--Weights-008--4.98953--0.38381\\assets\n",
      "INFO:tensorflow:Assets written to: models\\Cases--Weights-011--4.98594--0.38465\\assets\n",
      "INFO:tensorflow:Assets written to: models\\Cases--Weights-034--4.97565--0.37896\\assets\n",
      "INFO:tensorflow:Assets written to: models\\Cases--Weights-058--4.97139--0.38187\\assets\n",
      "INFO:tensorflow:Assets written to: models\\Cases--Weights-066--4.96505--0.38705\\assets\n",
      "INFO:tensorflow:Assets written to: models\\Cases--Weights-133--4.96154--0.38624\\assets\n",
      "INFO:tensorflow:Assets written to: models\\Cases--Weights-188--4.95881--0.38853\\assets\n"
     ]
    },
    {
     "data": {
      "text/plain": [
       "<tensorflow.python.keras.callbacks.History at 0x1f074ebcb88>"
      ]
     },
     "execution_count": 25,
     "metadata": {},
     "output_type": "execute_result"
    }
   ],
   "source": [
    "checkpoint_name = \"models/Cases--Weights-{epoch:03d}--{val_loss:.5f}--{val_accuracy:.5f}\"\n",
    "\n",
    "checkpoint = tf.keras.callbacks.ModelCheckpoint(checkpoint_name, monitor='val_loss', verbose = 0,\n",
    "                                                save_best_only = True, mode ='auto')\n",
    "\n",
    "# Use the training data to fit (train) the model\n",
    "model2.fit(x_train,y_train,epochs=250,shuffle=True,verbose=0,validation_split = 0.2,callbacks=[checkpoint])"
   ]
  },
  {
   "cell_type": "code",
   "execution_count": 26,
   "metadata": {},
   "outputs": [
    {
     "data": {
      "text/html": [
       "<div>\n",
       "<style scoped>\n",
       "    .dataframe tbody tr th:only-of-type {\n",
       "        vertical-align: middle;\n",
       "    }\n",
       "\n",
       "    .dataframe tbody tr th {\n",
       "        vertical-align: top;\n",
       "    }\n",
       "\n",
       "    .dataframe thead th {\n",
       "        text-align: right;\n",
       "    }\n",
       "</style>\n",
       "<table border=\"1\" class=\"dataframe\">\n",
       "  <thead>\n",
       "    <tr style=\"text-align: right;\">\n",
       "      <th></th>\n",
       "      <th>popden</th>\n",
       "      <th>black</th>\n",
       "      <th>hispanic</th>\n",
       "      <th>mhi</th>\n",
       "      <th>age</th>\n",
       "      <th>7caseday1</th>\n",
       "      <th>day7</th>\n",
       "      <th>7day7</th>\n",
       "    </tr>\n",
       "  </thead>\n",
       "  <tbody>\n",
       "    <tr>\n",
       "      <th>972034</th>\n",
       "      <td>4.391765</td>\n",
       "      <td>0.064827</td>\n",
       "      <td>0.339941</td>\n",
       "      <td>46146.0</td>\n",
       "      <td>39.5</td>\n",
       "      <td>0.000000</td>\n",
       "      <td>0.000000</td>\n",
       "      <td>0.000000</td>\n",
       "    </tr>\n",
       "    <tr>\n",
       "      <th>989543</th>\n",
       "      <td>45.257332</td>\n",
       "      <td>0.103372</td>\n",
       "      <td>0.150365</td>\n",
       "      <td>46182.0</td>\n",
       "      <td>43.6</td>\n",
       "      <td>10.452160</td>\n",
       "      <td>0.000000</td>\n",
       "      <td>0.000000</td>\n",
       "    </tr>\n",
       "    <tr>\n",
       "      <th>638288</th>\n",
       "      <td>10.792910</td>\n",
       "      <td>0.016972</td>\n",
       "      <td>0.562138</td>\n",
       "      <td>43197.0</td>\n",
       "      <td>35.6</td>\n",
       "      <td>77.911364</td>\n",
       "      <td>183.320857</td>\n",
       "      <td>1.527674</td>\n",
       "    </tr>\n",
       "    <tr>\n",
       "      <th>972814</th>\n",
       "      <td>54.610805</td>\n",
       "      <td>0.124404</td>\n",
       "      <td>0.076799</td>\n",
       "      <td>43562.0</td>\n",
       "      <td>40.8</td>\n",
       "      <td>6.056691</td>\n",
       "      <td>18.170072</td>\n",
       "      <td>0.000000</td>\n",
       "    </tr>\n",
       "    <tr>\n",
       "      <th>1111770</th>\n",
       "      <td>18.584653</td>\n",
       "      <td>0.005309</td>\n",
       "      <td>0.017696</td>\n",
       "      <td>49982.0</td>\n",
       "      <td>52.5</td>\n",
       "      <td>39.323634</td>\n",
       "      <td>45.877572</td>\n",
       "      <td>0.000000</td>\n",
       "    </tr>\n",
       "    <tr>\n",
       "      <th>...</th>\n",
       "      <td>...</td>\n",
       "      <td>...</td>\n",
       "      <td>...</td>\n",
       "      <td>...</td>\n",
       "      <td>...</td>\n",
       "      <td>...</td>\n",
       "      <td>...</td>\n",
       "      <td>...</td>\n",
       "    </tr>\n",
       "    <tr>\n",
       "      <th>91808</th>\n",
       "      <td>6.287263</td>\n",
       "      <td>0.025647</td>\n",
       "      <td>0.095690</td>\n",
       "      <td>44644.0</td>\n",
       "      <td>58.4</td>\n",
       "      <td>0.000000</td>\n",
       "      <td>0.000000</td>\n",
       "      <td>0.000000</td>\n",
       "    </tr>\n",
       "    <tr>\n",
       "      <th>240718</th>\n",
       "      <td>16.164760</td>\n",
       "      <td>0.073330</td>\n",
       "      <td>0.004105</td>\n",
       "      <td>46151.0</td>\n",
       "      <td>45.8</td>\n",
       "      <td>0.000000</td>\n",
       "      <td>0.000000</td>\n",
       "      <td>0.000000</td>\n",
       "    </tr>\n",
       "    <tr>\n",
       "      <th>113472</th>\n",
       "      <td>11221.278689</td>\n",
       "      <td>0.469420</td>\n",
       "      <td>0.109242</td>\n",
       "      <td>82604.0</td>\n",
       "      <td>33.9</td>\n",
       "      <td>6.866346</td>\n",
       "      <td>90.431236</td>\n",
       "      <td>0.000000</td>\n",
       "    </tr>\n",
       "    <tr>\n",
       "      <th>652695</th>\n",
       "      <td>96.086751</td>\n",
       "      <td>0.044124</td>\n",
       "      <td>0.046406</td>\n",
       "      <td>63032.0</td>\n",
       "      <td>47.8</td>\n",
       "      <td>0.000000</td>\n",
       "      <td>60.736388</td>\n",
       "      <td>0.000000</td>\n",
       "    </tr>\n",
       "    <tr>\n",
       "      <th>103498</th>\n",
       "      <td>7.930689</td>\n",
       "      <td>0.002817</td>\n",
       "      <td>0.060430</td>\n",
       "      <td>66861.0</td>\n",
       "      <td>50.6</td>\n",
       "      <td>0.000000</td>\n",
       "      <td>5.749770</td>\n",
       "      <td>0.000000</td>\n",
       "    </tr>\n",
       "  </tbody>\n",
       "</table>\n",
       "<p>871170 rows × 8 columns</p>\n",
       "</div>"
      ],
      "text/plain": [
       "               popden     black  hispanic      mhi   age  7caseday1  \\\n",
       "972034       4.391765  0.064827  0.339941  46146.0  39.5   0.000000   \n",
       "989543      45.257332  0.103372  0.150365  46182.0  43.6  10.452160   \n",
       "638288      10.792910  0.016972  0.562138  43197.0  35.6  77.911364   \n",
       "972814      54.610805  0.124404  0.076799  43562.0  40.8   6.056691   \n",
       "1111770     18.584653  0.005309  0.017696  49982.0  52.5  39.323634   \n",
       "...               ...       ...       ...      ...   ...        ...   \n",
       "91808        6.287263  0.025647  0.095690  44644.0  58.4   0.000000   \n",
       "240718      16.164760  0.073330  0.004105  46151.0  45.8   0.000000   \n",
       "113472   11221.278689  0.469420  0.109242  82604.0  33.9   6.866346   \n",
       "652695      96.086751  0.044124  0.046406  63032.0  47.8   0.000000   \n",
       "103498       7.930689  0.002817  0.060430  66861.0  50.6   0.000000   \n",
       "\n",
       "               day7     7day7  \n",
       "972034     0.000000  0.000000  \n",
       "989543     0.000000  0.000000  \n",
       "638288   183.320857  1.527674  \n",
       "972814    18.170072  0.000000  \n",
       "1111770   45.877572  0.000000  \n",
       "...             ...       ...  \n",
       "91808      0.000000  0.000000  \n",
       "240718     0.000000  0.000000  \n",
       "113472    90.431236  0.000000  \n",
       "652695    60.736388  0.000000  \n",
       "103498     5.749770  0.000000  \n",
       "\n",
       "[871170 rows x 8 columns]"
      ]
     },
     "execution_count": 26,
     "metadata": {},
     "output_type": "execute_result"
    }
   ],
   "source": [
    "X_train"
   ]
  },
  {
   "cell_type": "code",
   "execution_count": 27,
   "metadata": {},
   "outputs": [
    {
     "data": {
      "text/html": [
       "<div>\n",
       "<style scoped>\n",
       "    .dataframe tbody tr th:only-of-type {\n",
       "        vertical-align: middle;\n",
       "    }\n",
       "\n",
       "    .dataframe tbody tr th {\n",
       "        vertical-align: top;\n",
       "    }\n",
       "\n",
       "    .dataframe thead th {\n",
       "        text-align: right;\n",
       "    }\n",
       "</style>\n",
       "<table border=\"1\" class=\"dataframe\">\n",
       "  <thead>\n",
       "    <tr style=\"text-align: right;\">\n",
       "      <th></th>\n",
       "      <th>popden</th>\n",
       "      <th>black</th>\n",
       "      <th>hispanic</th>\n",
       "      <th>age</th>\n",
       "      <th>day7</th>\n",
       "      <th>rad57day7</th>\n",
       "      <th>7day7</th>\n",
       "    </tr>\n",
       "  </thead>\n",
       "  <tbody>\n",
       "    <tr>\n",
       "      <th>972034</th>\n",
       "      <td>4.391765</td>\n",
       "      <td>0.064827</td>\n",
       "      <td>0.339941</td>\n",
       "      <td>39.5</td>\n",
       "      <td>0.000000</td>\n",
       "      <td>0.040835</td>\n",
       "      <td>0.000000</td>\n",
       "    </tr>\n",
       "    <tr>\n",
       "      <th>989543</th>\n",
       "      <td>45.257332</td>\n",
       "      <td>0.103372</td>\n",
       "      <td>0.150365</td>\n",
       "      <td>43.6</td>\n",
       "      <td>602.044443</td>\n",
       "      <td>28.664976</td>\n",
       "      <td>43.899074</td>\n",
       "    </tr>\n",
       "    <tr>\n",
       "      <th>638288</th>\n",
       "      <td>10.792910</td>\n",
       "      <td>0.016972</td>\n",
       "      <td>0.562138</td>\n",
       "      <td>35.6</td>\n",
       "      <td>12178.615622</td>\n",
       "      <td>47.265661</td>\n",
       "      <td>62.634626</td>\n",
       "    </tr>\n",
       "    <tr>\n",
       "      <th>972814</th>\n",
       "      <td>54.610805</td>\n",
       "      <td>0.124404</td>\n",
       "      <td>0.076799</td>\n",
       "      <td>40.8</td>\n",
       "      <td>270.532181</td>\n",
       "      <td>3.823752</td>\n",
       "      <td>4.037794</td>\n",
       "    </tr>\n",
       "    <tr>\n",
       "      <th>1111770</th>\n",
       "      <td>18.584653</td>\n",
       "      <td>0.005309</td>\n",
       "      <td>0.017696</td>\n",
       "      <td>52.5</td>\n",
       "      <td>2012.059248</td>\n",
       "      <td>56.006290</td>\n",
       "      <td>39.323634</td>\n",
       "    </tr>\n",
       "    <tr>\n",
       "      <th>...</th>\n",
       "      <td>...</td>\n",
       "      <td>...</td>\n",
       "      <td>...</td>\n",
       "      <td>...</td>\n",
       "      <td>...</td>\n",
       "      <td>...</td>\n",
       "      <td>...</td>\n",
       "    </tr>\n",
       "    <tr>\n",
       "      <th>91808</th>\n",
       "      <td>6.287263</td>\n",
       "      <td>0.025647</td>\n",
       "      <td>0.095690</td>\n",
       "      <td>58.4</td>\n",
       "      <td>366.379310</td>\n",
       "      <td>5.542905</td>\n",
       "      <td>0.000000</td>\n",
       "    </tr>\n",
       "    <tr>\n",
       "      <th>240718</th>\n",
       "      <td>16.164760</td>\n",
       "      <td>0.073330</td>\n",
       "      <td>0.004105</td>\n",
       "      <td>45.8</td>\n",
       "      <td>0.000000</td>\n",
       "      <td>0.000000</td>\n",
       "      <td>0.000000</td>\n",
       "    </tr>\n",
       "    <tr>\n",
       "      <th>113472</th>\n",
       "      <td>11221.278689</td>\n",
       "      <td>0.469420</td>\n",
       "      <td>0.109242</td>\n",
       "      <td>33.9</td>\n",
       "      <td>2160.707555</td>\n",
       "      <td>7.214808</td>\n",
       "      <td>7.158531</td>\n",
       "    </tr>\n",
       "    <tr>\n",
       "      <th>652695</th>\n",
       "      <td>96.086751</td>\n",
       "      <td>0.044124</td>\n",
       "      <td>0.046406</td>\n",
       "      <td>47.8</td>\n",
       "      <td>925.819531</td>\n",
       "      <td>4.073444</td>\n",
       "      <td>0.000000</td>\n",
       "    </tr>\n",
       "    <tr>\n",
       "      <th>103498</th>\n",
       "      <td>7.930689</td>\n",
       "      <td>0.002817</td>\n",
       "      <td>0.060430</td>\n",
       "      <td>50.6</td>\n",
       "      <td>241.490340</td>\n",
       "      <td>5.932401</td>\n",
       "      <td>0.000000</td>\n",
       "    </tr>\n",
       "  </tbody>\n",
       "</table>\n",
       "<p>871170 rows × 7 columns</p>\n",
       "</div>"
      ],
      "text/plain": [
       "               popden     black  hispanic   age          day7  rad57day7  \\\n",
       "972034       4.391765  0.064827  0.339941  39.5      0.000000   0.040835   \n",
       "989543      45.257332  0.103372  0.150365  43.6    602.044443  28.664976   \n",
       "638288      10.792910  0.016972  0.562138  35.6  12178.615622  47.265661   \n",
       "972814      54.610805  0.124404  0.076799  40.8    270.532181   3.823752   \n",
       "1111770     18.584653  0.005309  0.017696  52.5   2012.059248  56.006290   \n",
       "...               ...       ...       ...   ...           ...        ...   \n",
       "91808        6.287263  0.025647  0.095690  58.4    366.379310   5.542905   \n",
       "240718      16.164760  0.073330  0.004105  45.8      0.000000   0.000000   \n",
       "113472   11221.278689  0.469420  0.109242  33.9   2160.707555   7.214808   \n",
       "652695      96.086751  0.044124  0.046406  47.8    925.819531   4.073444   \n",
       "103498       7.930689  0.002817  0.060430  50.6    241.490340   5.932401   \n",
       "\n",
       "             7day7  \n",
       "972034    0.000000  \n",
       "989543   43.899074  \n",
       "638288   62.634626  \n",
       "972814    4.037794  \n",
       "1111770  39.323634  \n",
       "...            ...  \n",
       "91808     0.000000  \n",
       "240718    0.000000  \n",
       "113472    7.158531  \n",
       "652695    0.000000  \n",
       "103498    0.000000  \n",
       "\n",
       "[871170 rows x 7 columns]"
      ]
     },
     "execution_count": 27,
     "metadata": {},
     "output_type": "execute_result"
    }
   ],
   "source": [
    "x_train"
   ]
  },
  {
   "cell_type": "code",
   "execution_count": null,
   "metadata": {},
   "outputs": [],
   "source": []
  }
 ],
 "metadata": {
  "kernelspec": {
   "display_name": "Python [conda env:PythonData] *",
   "language": "python",
   "name": "conda-env-PythonData-py"
  },
  "language_info": {
   "codemirror_mode": {
    "name": "ipython",
    "version": 3
   },
   "file_extension": ".py",
   "mimetype": "text/x-python",
   "name": "python",
   "nbconvert_exporter": "python",
   "pygments_lexer": "ipython3",
   "version": "3.7.6"
  }
 },
 "nbformat": 4,
 "nbformat_minor": 4
}
