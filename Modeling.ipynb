{
 "cells": [
  {
   "cell_type": "code",
   "execution_count": 1,
   "metadata": {
    "scrolled": true
   },
   "outputs": [
    {
     "name": "stderr",
     "output_type": "stream",
     "text": [
      "Using TensorFlow backend.\n"
     ]
    }
   ],
   "source": [
    "# Dependencies and Setup\n",
    "from bs4 import BeautifulSoup as bs\n",
    "import pandas as pd\n",
    "import requests\n",
    "import re\n",
    "import time \n",
    "import datetime \n",
    "import numpy as np\n",
    "from config1 import username1,password1,host1,port1,database1,census_key\n",
    "import sqlalchemy\n",
    "from sqlalchemy import create_engine, func, inspect, desc\n",
    "pd.options.mode.chained_assignment = None  # default='warn'\n",
    "import requests\n",
    "import json\n",
    "from pandas.io.json import json_normalize\n",
    "from timeit import default_timer as timer\n",
    "from census import Census\n",
    "from us import states\n",
    "import matplotlib.pyplot as plt\n",
    "import seaborn as sb\n",
    "from sklearn.model_selection import train_test_split\n",
    "import os\n",
    "import tensorflow as tf\n",
    "from tensorflow.keras.models import Sequential\n",
    "from tensorflow.keras.utils import to_categorical\n",
    "from tensorflow.keras.layers import Dense\n",
    "from keras.callbacks import ModelCheckpoint\n",
    "import statistics\n",
    "import math"
   ]
  },
  {
   "cell_type": "code",
   "execution_count": 2,
   "metadata": {},
   "outputs": [
    {
     "name": "stdout",
     "output_type": "stream",
     "text": [
      "15.767225500000002\n"
     ]
    }
   ],
   "source": [
    "# Database Setup\n",
    "start = timer()\n",
    "connection1=f'{username1}:{password1}@{host1}:{port1}/{database1}'\n",
    "engine1 = create_engine(f'postgresql://{connection1}')\n",
    "\n",
    "# Pull Data\n",
    "orders=pd.read_sql_query('select * from orders', con=engine1)\n",
    "state_heatmap=pd.read_sql_query('select * from state_heatmap', con=engine1)\n",
    "county_heatmap=pd.read_sql_query('select * from county_heatmap', con=engine1)\n",
    "state_cases=pd.read_sql_query('select * from state_cases', con=engine1)\n",
    "state_deaths=pd.read_sql_query('select * from state_deaths', con=engine1)\n",
    "county_cases1=pd.read_sql_query('select * from county_cases1', con=engine1)\n",
    "county_cases2=pd.read_sql_query('select * from county_cases2', con=engine1)\n",
    "county_cases3=pd.read_sql_query('select * from county_cases3', con=engine1)\n",
    "county_deaths1=pd.read_sql_query('select * from county_deaths1', con=engine1)\n",
    "county_deaths2=pd.read_sql_query('select * from county_deaths2', con=engine1)\n",
    "county_deaths3=pd.read_sql_query('select * from county_deaths3', con=engine1)\n",
    "\n",
    "# Concats\n",
    "county_cases=pd.concat([county_cases1,county_cases2,county_cases3], ignore_index=True)\n",
    "county_deaths=pd.concat([county_deaths1,county_deaths2,county_deaths3], ignore_index=True)\n",
    "end = timer()\n",
    "print(end - start)"
   ]
  },
  {
   "cell_type": "code",
   "execution_count": 3,
   "metadata": {},
   "outputs": [
    {
     "name": "stdout",
     "output_type": "stream",
     "text": [
      "8.712567500000002\n"
     ]
    },
    {
     "name": "stderr",
     "output_type": "stream",
     "text": [
      "C:\\Users\\Henry Randall\\Anaconda3\\envs\\PythonData\\lib\\site-packages\\ipykernel_launcher.py:26: FutureWarning: Indexing with multiple keys (implicitly converted to a tuple of keys) will be deprecated, use a list instead.\n",
      "C:\\Users\\Henry Randall\\Anaconda3\\envs\\PythonData\\lib\\site-packages\\ipykernel_launcher.py:28: FutureWarning: Indexing with multiple keys (implicitly converted to a tuple of keys) will be deprecated, use a list instead.\n"
     ]
    }
   ],
   "source": [
    "# Call Cencus Data\n",
    "start = timer()\n",
    "c = Census(census_key, year=2018)\n",
    "census_data = c.acs5.get(('B01003_001E', 'B17001_002E','B19013_001E','B01001A_002E','B01001A_017E','B01002_001E','B02001_001E',\n",
    "                          'B02001_003E','B03001_003E'), {'for': 'county:*'})\n",
    "\n",
    "# Convert to DataFrame\n",
    "census_df = pd.DataFrame(census_data)\n",
    "\n",
    "# Column Reordering\n",
    "census_df= census_df.rename(columns={'B01003_001E': 'Population',\n",
    "                                     'B17001_002E': 'Poverty Count',\n",
    "                                     'B19013_001E': 'Median Household Income',\n",
    "                                     'B01001A_002E': 'male pop',\n",
    "                                     'B01001A_017E':'female pop',\n",
    "                                     'B01002_001E': 'median age',\n",
    "                                     'B02001_001E': 'total race pop',\n",
    "                                     'B02001_003E': 'black pop',\n",
    "                                     'B03001_003E': 'hispanic pop',\n",
    "                                     'state':'State',\n",
    "                                     'county':'County'})\n",
    "census_df['fips']=census_df['State']+census_df['County']\n",
    "census_df['%male']=census_df['male pop']/(census_df['male pop']+census_df['female pop'])\n",
    "census_df['%black']=census_df['black pop']/(census_df['total race pop'])\n",
    "census_df['%hispanic']=census_df['hispanic pop']/(census_df['total race pop'])\n",
    "state_census1=census_df.groupby(\"State\")[\"Population\",'Poverty Count','male pop','female pop','total race pop',\n",
    "                                        'black pop','hispanic pop'].sum()\n",
    "state_census2=census_df.groupby(\"State\")[\"Median Household Income\",'median age'].mean()\n",
    "state_census1['%male']=state_census1['male pop']/(state_census1['male pop']+state_census1['female pop'])\n",
    "state_census1['%black']=state_census1['black pop']/(state_census1['total race pop'])\n",
    "state_census1['%hispanic']=state_census1['hispanic pop']/(state_census1['total race pop'])\n",
    "census_df=census_df.drop(['male pop','female pop','total race pop','black pop','hispanic pop'], axis=1)\n",
    "state_census1=state_census1.drop(['male pop','female pop','total race pop','black pop','hispanic pop'], axis=1)\n",
    "state_census1=state_census1.reset_index()\n",
    "state_census2=state_census2.reset_index()\n",
    "state_census1=state_census1.rename(columns={'State':'fips'})\n",
    "state_census2=state_census2.rename(columns={'State':'fips'})\n",
    "state_census=state_census1.merge(state_census2,on='fips')\n",
    "end = timer()\n",
    "print(end - start)"
   ]
  },
  {
   "cell_type": "code",
   "execution_count": 4,
   "metadata": {},
   "outputs": [
    {
     "name": "stdout",
     "output_type": "stream",
     "text": [
      "0.947739600000002\n"
     ]
    }
   ],
   "source": [
    "start = timer()\n",
    "state_area={}\n",
    "with open('stateborders.json') as json_file:\n",
    "    data = json.load(json_file)\n",
    "data=data['features']\n",
    "k=0\n",
    "for state in data:\n",
    "    state_area[k] = {\"state\":data[k]['properties']['NAME'],\"fips\": data[k]['properties']['STATE'],\n",
    "                     \"area\": data[k]['properties']['CENSUSAREA']}\n",
    "    k=k+1\n",
    "state_area = pd.DataFrame.from_dict(state_area, \"index\")\n",
    "\n",
    "county_area={}\n",
    "with open('countyborders.json') as json_file:\n",
    "    data = json.load(json_file)\n",
    "data=data['features']\n",
    "k=0\n",
    "for county in data:\n",
    "    county_area[k] = {\"fips\": (data[k]['properties']['STATE'])+(data[k]['properties']['COUNTY']),\n",
    "                      \"area\": data[k]['properties']['CENSUSAREA']}\n",
    "    k=k+1\n",
    "county_area = pd.DataFrame.from_dict(county_area, \"index\")\n",
    "end = timer()\n",
    "print(end - start)"
   ]
  },
  {
   "cell_type": "code",
   "execution_count": 5,
   "metadata": {},
   "outputs": [
    {
     "name": "stdout",
     "output_type": "stream",
     "text": [
      "0.0112696000000021\n"
     ]
    }
   ],
   "source": [
    "start = timer()\n",
    "state_census=state_census.merge(state_area, on='fips')\n",
    "state_census.iloc[8,8]='District Of Columbia'\n",
    "county_census=census_df.merge(county_area, on='fips')\n",
    "county_census.iloc[291,1]=10300\n",
    "county_census.iloc[291,2]=33422\n",
    "state_census['Poverty Rate'] = 100 * \\\n",
    "    state_census['Poverty Count'].astype(\n",
    "        int) / state_census['Population'].astype(int)\n",
    "state_census['Population Density'] = 1 * \\\n",
    "    state_census['Population'].astype(\n",
    "        int) / state_census['area'].astype(int)\n",
    "state_census=state_census.drop(['Poverty Count','area'], axis=1)\n",
    "# Convert Poverty Copunt to Poverty Rate (Poverty Count / Population)\n",
    "county_census['Poverty Rate'] = 100 * \\\n",
    "    county_census['Poverty Count'].astype(\n",
    "        int) / county_census['Population'].astype(int)\n",
    "county_census['Population Density'] = 1 * \\\n",
    "    county_census['Population'].astype(\n",
    "        int) / county_census['area'].astype(int)\n",
    "county_census=county_census.drop(['Poverty Count','area','State','County'], axis=1)\n",
    "end = timer()\n",
    "print(end - start)"
   ]
  },
  {
   "cell_type": "code",
   "execution_count": 6,
   "metadata": {},
   "outputs": [],
   "source": [
    "county_heatmap=county_heatmap.merge(county_census,on='fips')\n",
    "state_heatmap=state_heatmap.merge(state_census,on='state')"
   ]
  },
  {
   "cell_type": "code",
   "execution_count": 7,
   "metadata": {},
   "outputs": [],
   "source": [
    "latdata_url='https://raw.githubusercontent.com/CSSEGISandData/COVID-19/master/csse_covid_19_data/csse_covid_19_time_series/time_series_covid19_confirmed_US.csv'\n",
    "latdata=pd.read_csv(latdata_url, error_bad_lines=False)\n",
    "latdata=latdata.rename(columns={'Province_State': 'State'})\n",
    "latdata=latdata.reset_index()\n",
    "latdata=latdata.drop(columns=['index'])\n",
    "latdata.dropna(subset = [\"Admin2\"], inplace=True)\n",
    "latdata=latdata[latdata.Admin2 != 'Unassigned']\n",
    "latdata=latdata.dropna()\n",
    "latdata=latdata[~latdata['Admin2'].astype(str).str.startswith('Out of')]\n",
    "latdata=latdata[latdata.Admin2 != 'Out of*']\n",
    "latdata=latdata.reset_index()\n",
    "latdata['FIPS']=latdata.FIPS.map('{0:0>5.0f}'.format)\n",
    "latdata=latdata[['State','FIPS','Lat','Long_']]\n",
    "state_latdata=latdata.groupby('State').mean()\n",
    "latdata=latdata.drop(columns=['State'])\n",
    "state_latdata=state_latdata.reset_index()"
   ]
  },
  {
   "cell_type": "code",
   "execution_count": 8,
   "metadata": {},
   "outputs": [
    {
     "name": "stdout",
     "output_type": "stream",
     "text": [
      "10.516179699999995\n",
      "10.157435899999996\n"
     ]
    }
   ],
   "source": [
    "#Find daily totals - county cases\n",
    "start = timer()\n",
    "county_cases_daily=county_cases.copy()\n",
    "[r,c]=county_cases_daily.shape\n",
    "for j in range (0,r):\n",
    "    last=0\n",
    "    for i in range (3,c):\n",
    "        current=county_cases_daily.iloc[j,i]-last\n",
    "        last=county_cases_daily.iloc[j,i]\n",
    "        county_cases_daily.iat[j,i]=current\n",
    "end = timer()\n",
    "print(end - start)        \n",
    "\n",
    "start = timer()\n",
    "#Find daily totals - county deaths\n",
    "county_deaths_daily=county_deaths.copy()\n",
    "[r,c]=county_deaths_daily.shape\n",
    "for j in range (0,r):\n",
    "    last=0\n",
    "    for i in range (3,c):\n",
    "        current=county_deaths_daily.iloc[j,i]-last\n",
    "        last=county_deaths_daily.iloc[j,i]\n",
    "        county_deaths_daily.iat[j,i]=current\n",
    "end = timer()\n",
    "print(end - start)"
   ]
  },
  {
   "cell_type": "code",
   "execution_count": 9,
   "metadata": {},
   "outputs": [
    {
     "name": "stdout",
     "output_type": "stream",
     "text": [
      "0.16285770000000355\n",
      "0.1725153000000006\n"
     ]
    }
   ],
   "source": [
    "#Find daily totals - state cases\n",
    "start = timer()\n",
    "state_cases_daily=state_cases.copy()\n",
    "[r,c]=state_cases_daily.shape\n",
    "for j in range (0,r):\n",
    "    last=0\n",
    "    for i in range (2,c):\n",
    "        current=state_cases_daily.iloc[j,i]-last\n",
    "        last=state_cases_daily.iloc[j,i]\n",
    "        state_cases_daily.iat[j,i]=current\n",
    "end = timer()\n",
    "print(end - start)\n",
    "\n",
    "#Find daily totals - state deaths\n",
    "start = timer()\n",
    "state_deaths_daily=state_deaths.copy()\n",
    "[r,c]=state_deaths_daily.shape\n",
    "for j in range (0,r):\n",
    "    last=0\n",
    "    for i in range (2,c):\n",
    "        current=state_deaths_daily.iloc[j,i]-last\n",
    "        last=state_deaths_daily.iloc[j,i]\n",
    "        state_deaths_daily.iat[j,i]=current\n",
    "end = timer()\n",
    "print(end - start)"
   ]
  },
  {
   "cell_type": "code",
   "execution_count": 10,
   "metadata": {},
   "outputs": [
    {
     "name": "stdout",
     "output_type": "stream",
     "text": [
      "185.08286610000002\n",
      "187.49708090000001\n"
     ]
    }
   ],
   "source": [
    "#Find 7day totals - county cases\n",
    "start = timer()\n",
    "county_cases_7day=county_cases_daily.copy()\n",
    "[r,c]=county_cases_7day.shape\n",
    "for j in range (0,r):\n",
    "    for i in range (9,c):\n",
    "        county_cases_7day.iloc[j,i]=statistics.mean([county_cases_daily.iloc[j,i-6],county_cases_daily.iloc[j,i-5],\n",
    "                county_cases_daily.iloc[j,i-4],county_cases_daily.iloc[j,i-3],county_cases_daily.iloc[j,i-3],\n",
    "                county_cases_daily.iloc[j,i-1],county_cases_daily.iloc[j,i]])\n",
    "county_cases_7day = county_cases_7day.drop(county_cases_7day.columns[3:9],axis=1)\n",
    "end = timer()\n",
    "print(end - start)\n",
    "\n",
    "start = timer()\n",
    "#Find 7day totals - county deaths\n",
    "county_deaths_7day=county_deaths_daily.copy()\n",
    "[r,c]=county_deaths_7day.shape\n",
    "for j in range (0,r):\n",
    "    last=0\n",
    "    for i in range (9,c):\n",
    "        county_deaths_7day.iloc[j,i]=statistics.mean([county_deaths_daily.iloc[j,i-6],county_deaths_daily.iloc[j,i-5],\n",
    "                county_deaths_daily.iloc[j,i-4],county_deaths_daily.iloc[j,i-3],county_deaths_daily.iloc[j,i-3],\n",
    "                county_deaths_daily.iloc[j,i-1],county_deaths_daily.iloc[j,i]])\n",
    "county_deaths_7day = county_deaths_7day.drop(county_deaths_7day.columns[3:9],axis=1)\n",
    "end = timer()\n",
    "print(end - start)"
   ]
  },
  {
   "cell_type": "code",
   "execution_count": 11,
   "metadata": {},
   "outputs": [
    {
     "name": "stdout",
     "output_type": "stream",
     "text": [
      "2.862842999999998\n",
      "2.85086160000003\n"
     ]
    }
   ],
   "source": [
    "#Find 7day totals - state cases\n",
    "start = timer()\n",
    "state_cases_7day=state_cases_daily.copy()\n",
    "[r,c]=state_cases_7day.shape\n",
    "for j in range (0,r):\n",
    "    for i in range (7,c):\n",
    "        state_cases_7day.iloc[j,i]=statistics.mean([state_cases_daily.iloc[j,i-6],state_cases_daily.iloc[j,i-5],\n",
    "                state_cases_daily.iloc[j,i-4],state_cases_daily.iloc[j,i-3],state_cases_daily.iloc[j,i-2],\n",
    "                state_cases_daily.iloc[j,i-1],state_cases_daily.iloc[j,i]])\n",
    "state_cases_7day = state_cases_7day.drop(state_cases_7day.columns[1:7],axis=1)\n",
    "end = timer()\n",
    "print(end - start)\n",
    "\n",
    "start = timer()\n",
    "#Find 7day totals - county deaths\n",
    "state_deaths_7day=state_deaths_daily.copy()\n",
    "[r,c]=state_deaths_7day.shape\n",
    "for j in range (0,r):\n",
    "    last=0\n",
    "    for i in range (7,c):\n",
    "        state_deaths_7day.iloc[j,i]=statistics.mean([state_deaths_daily.iloc[j,i-6],state_deaths_daily.iloc[j,i-5],\n",
    "                state_deaths_daily.iloc[j,i-4],state_deaths_daily.iloc[j,i-3],state_deaths_daily.iloc[j,i-2],\n",
    "                state_deaths_daily.iloc[j,i-1],state_deaths_daily.iloc[j,i]])\n",
    "state_deaths_7day = state_deaths_7day.drop(state_deaths_7day.columns[1:7],axis=1)\n",
    "end = timer()\n",
    "print(end - start)"
   ]
  },
  {
   "cell_type": "code",
   "execution_count": 12,
   "metadata": {},
   "outputs": [
    {
     "name": "stdout",
     "output_type": "stream",
     "text": [
      "0.6887006000000042\n"
     ]
    }
   ],
   "source": [
    "# Proximity Cases - State\n",
    "start = timer()\n",
    "rad2_state_7day={}\n",
    "rad5_state_7day={}\n",
    "rad10_state_7day={}\n",
    "[r,c]=state_cases_7day.shape\n",
    "for j in range (0,r):\n",
    "    lat=state_latdata.iloc[j,1]\n",
    "    lon=state_latdata.iloc[j,2]\n",
    "    index2=[]\n",
    "    index5=[]\n",
    "    index10=[]\n",
    "    for k in range (0,r):\n",
    "        dist=math.sqrt(((state_latdata.iloc[k,1]-lat)**2)+((state_latdata.iloc[k,2]-lon)**2))\n",
    "        if dist<2:\n",
    "            index2.append(state_latdata.iloc[k,0])\n",
    "        if dist<5:\n",
    "            index5.append(state_latdata.iloc[k,0])\n",
    "        if dist<10:\n",
    "            index10.append(state_latdata.iloc[k,0])\n",
    "    rad2_state_7day[j]=((((state_cases_7day[state_cases_7day['State'].isin(index5)]).sum())[1:])/(((state_heatmap[state_heatmap['state'].str.lower().isin([x.lower() for x in index2])]).sum())['population']))*100000\n",
    "    rad5_state_7day[j]=((((state_cases_7day[state_cases_7day['State'].isin(index5)]).sum())[1:])/(((state_heatmap[state_heatmap['state'].str.lower().isin([x.lower() for x in index5])]).sum())['population']))*100000\n",
    "    rad10_state_7day[j]=((((state_cases_7day[state_cases_7day['State'].isin(index10)]).sum())[1:])/(((state_heatmap[state_heatmap['state'].str.lower().isin([x.lower() for x in index10])]).sum())['population']))*100000\n",
    "rad2_state_7day = pd.DataFrame.from_dict(rad2_state_7day, \"index\")\n",
    "rad2_state_7day.insert(0, 'State', state_cases_7day['State'])\n",
    "rad5_state_7day = pd.DataFrame.from_dict(rad5_state_7day, \"index\")\n",
    "rad5_state_7day.insert(0, 'State', state_cases_7day['State'])\n",
    "rad10_state_7day = pd.DataFrame.from_dict(rad10_state_7day, \"index\")\n",
    "rad10_state_7day.insert(0, 'State', state_cases_7day['State'])\n",
    "rad2_state_7day = rad2_state_7day.fillna(0)\n",
    "rad5_state_7day = rad5_state_7day.fillna(0)\n",
    "rad10_state_7day = rad10_state_7day.fillna(0)\n",
    "end = timer()\n",
    "print(end - start)"
   ]
  },
  {
   "cell_type": "code",
   "execution_count": 13,
   "metadata": {},
   "outputs": [
    {
     "name": "stdout",
     "output_type": "stream",
     "text": [
      "254.54065879999996\n"
     ]
    }
   ],
   "source": [
    "# Proximity Cases - County\n",
    "start = timer()\n",
    "rad2_county_7day={}\n",
    "rad5_county_7day={}\n",
    "rad10_county_7day={}\n",
    "[r,c]=county_cases_7day.shape\n",
    "for j in range (0,r):\n",
    "    lat=latdata.iloc[j,1]\n",
    "    lon=latdata.iloc[j,2]\n",
    "    index2=[]\n",
    "    index5=[]\n",
    "    index10=[]\n",
    "    for k in range (0,r):\n",
    "        dist=math.sqrt(((latdata.iloc[k,1]-lat)**2)+((latdata.iloc[k,2]-lon)**2))\n",
    "        if dist<2:\n",
    "            index2.append(latdata.iloc[k,0])\n",
    "        if dist<5:\n",
    "            index5.append(latdata.iloc[k,0])\n",
    "        if dist<10:\n",
    "            index10.append(latdata.iloc[k,0])\n",
    "    rad2_county_7day[j]=((((county_cases_7day[county_cases_7day['FIPS'].isin(index2)]).sum())[3:])/(((county_heatmap[county_heatmap['fips'].isin(index2)]).sum())['population']))*100000\n",
    "    rad5_county_7day[j]=((((county_cases_7day[county_cases_7day['FIPS'].isin(index5)]).sum())[3:])/(((county_heatmap[county_heatmap['fips'].isin(index5)]).sum())['population']))*100000\n",
    "    rad10_county_7day[j]=((((county_cases_7day[county_cases_7day['FIPS'].isin(index10)]).sum())[3:])/(((county_heatmap[county_heatmap['fips'].isin(index10)]).sum())['population']))*100000\n",
    "rad2_county_7day = pd.DataFrame.from_dict(rad2_county_7day, \"index\")\n",
    "rad2_county_7day.insert(0, 'FIPS', county_cases_7day['FIPS'])\n",
    "rad2_county_7day.insert(1, 'County', county_cases_7day['County'])\n",
    "rad2_county_7day.insert(2, 'State', county_cases_7day['State'])\n",
    "rad5_county_7day = pd.DataFrame.from_dict(rad5_county_7day, \"index\")\n",
    "rad5_county_7day.insert(0, 'FIPS', county_cases_7day['FIPS'])\n",
    "rad5_county_7day.insert(1, 'County', county_cases_7day['County'])\n",
    "rad5_county_7day.insert(2, 'State', county_cases_7day['State'])\n",
    "rad10_county_7day = pd.DataFrame.from_dict(rad10_county_7day, \"index\")\n",
    "rad10_county_7day.insert(0, 'FIPS', county_cases_7day['FIPS'])\n",
    "rad10_county_7day.insert(1, 'County', county_cases_7day['County'])\n",
    "rad10_county_7day.insert(2, 'State', county_cases_7day['State'])\n",
    "rad2_county_7day = rad2_county_7day.fillna(0)\n",
    "rad5_county_7day = rad5_county_7day.fillna(0)\n",
    "rad10_county_7day = rad10_county_7day.fillna(0)\n",
    "end = timer()\n",
    "print(end - start)"
   ]
  },
  {
   "cell_type": "code",
   "execution_count": 14,
   "metadata": {},
   "outputs": [
    {
     "name": "stdout",
     "output_type": "stream",
     "text": [
      "2.7589547999999695\n"
     ]
    }
   ],
   "source": [
    "start = timer()\n",
    "state_cases_popcorrected={}\n",
    "k=0\n",
    "[r,c]=state_cases.shape\n",
    "for j in range (0,r):\n",
    "    pop=state_heatmap.iloc[j,3]\n",
    "    male=state_heatmap.iloc[j,14]\n",
    "    black=state_heatmap.iloc[j,15]\n",
    "    hispanic=state_heatmap.iloc[j,16]\n",
    "    mhi=state_heatmap.iloc[j,17]\n",
    "    age=state_heatmap.iloc[j,18]\n",
    "    pov=state_heatmap.iloc[j,19]\n",
    "    popden=state_heatmap.iloc[j,20]\n",
    "    for i in range (7,c-7):\n",
    "        if state_cases.iloc[j,i+1]>-1:\n",
    "            state_cases_popcorrected[k] = {\"pov\": pov,\"popden\": popden,\"pop\": pop,\"male\": male,\"black\": black,\n",
    "\"hispanic\": hispanic,\"mhi\": mhi,\"age\": age,\"day1\": (state_cases.iloc[j,i]*100000)/pop,\n",
    "\"day2\":(state_cases.iloc[j,i+1]*100000)/pop,\"day3\":(state_cases.iloc[j,i+2]*100000)/pop,\n",
    "\"day4\":(state_cases.iloc[j,i+3]*100000)/pop,\"day5\":(state_cases.iloc[j,i+4]*100000)/pop,\n",
    "\"day6\":(state_cases.iloc[j,i+5]*100000)/pop,\"day7\":(state_cases.iloc[j,i+6]*100000)/pop,\n",
    "\"7deathday1\": (state_deaths_7day.iloc[j,i-6]*100000)/pop,\n",
    "\"7deathday2\":(state_deaths_7day.iloc[j,i-5]*100000)/pop,\"7deathday3\":(state_deaths_7day.iloc[j,i-4]*100000)/pop,\n",
    "\"7deathday4\":(state_deaths_7day.iloc[j,i-3]*100000)/pop,\"7deathday5\":(state_deaths_7day.iloc[j,i-2]*100000)/pop,\n",
    "\"7deathday6\":(state_deaths_7day.iloc[j,i-1]*100000)/pop,\"7deathday7\":(state_deaths_7day.iloc[j,i]*100000)/pop,\n",
    "\"rad27day1\": (rad2_state_7day.iloc[j,i-6]),\"rad27day2\":(rad2_state_7day.iloc[j,i-5]),\n",
    "\"rad27day3\":(rad2_state_7day.iloc[j,i-4]),\"rad27day4\":(rad2_state_7day.iloc[j,i-3]),\n",
    "\"rad27day5\":(rad2_state_7day.iloc[j,i-2]),\"rad27day6\":(rad2_state_7day.iloc[j,i-1]),\n",
    "\"rad27day7\":(rad2_state_7day.iloc[j,i]),\"rad57day1\": (rad5_state_7day.iloc[j,i-6]),\n",
    "\"rad57day2\":(rad5_state_7day.iloc[j,i-5]),\"rad57day3\":(rad5_state_7day.iloc[j,i-4]),\n",
    "\"rad57day4\":(rad5_state_7day.iloc[j,i-3]),\"rad57day5\":(rad5_state_7day.iloc[j,i-2]),\n",
    "\"rad57day6\":(rad5_state_7day.iloc[j,i-1]),\"rad57day7\":(rad5_state_7day.iloc[j,i]),                                \n",
    "\"rad107day1\": (rad10_state_7day.iloc[j,i-6]),\"rad107day2\":(rad10_state_7day.iloc[j,i-5]),\n",
    "\"rad107day3\":(rad10_state_7day.iloc[j,i-4]),\"rad107day4\":(rad10_state_7day.iloc[j,i-3]),\n",
    "\"rad107day5\":(rad10_state_7day.iloc[j,i-2]),\"rad107day6\":(rad10_state_7day.iloc[j,i-1]),\n",
    "\"rad107day7\":(rad10_state_7day.iloc[j,i]),\"7day1\": (state_cases_7day.iloc[j,i-6]*100000)/pop,\n",
    "\"7day2\":(state_cases_7day.iloc[j,i-5]*100000)/pop,\"7day3\":(state_cases_7day.iloc[j,i-4]*100000)/pop,\n",
    "\"7day4\":(state_cases_7day.iloc[j,i-3]*100000)/pop,\"7day5\":(state_cases_7day.iloc[j,i-2]*100000)/pop,\n",
    "\"7day6\":(state_cases_7day.iloc[j,i-1]*100000)/pop,\"7day7\":(state_cases_7day.iloc[j,i]*100000)/pop,\n",
    "\"7day8\":(state_cases_7day.iloc[j,i+1]*100000)/pop}\n",
    "            k=k+1\n",
    "state_cases_popcorrected = pd.DataFrame.from_dict(state_cases_popcorrected, \"index\")\n",
    "end = timer()\n",
    "print(end - start)"
   ]
  },
  {
   "cell_type": "code",
   "execution_count": 15,
   "metadata": {},
   "outputs": [
    {
     "name": "stdout",
     "output_type": "stream",
     "text": [
      "2.522335200000043\n"
     ]
    }
   ],
   "source": [
    "start = timer()\n",
    "state_deaths_popcorrected={}\n",
    "k=0\n",
    "[r,c]=state_deaths.shape\n",
    "for j in range (0,r):\n",
    "    pop=state_heatmap.iloc[j,13]\n",
    "    male=state_heatmap.iloc[j,14]\n",
    "    black=state_heatmap.iloc[j,15]\n",
    "    hispanic=state_heatmap.iloc[j,16]\n",
    "    mhi=state_heatmap.iloc[j,17]\n",
    "    age=state_heatmap.iloc[j,18]\n",
    "    pov=state_heatmap.iloc[j,19]\n",
    "    popden=state_heatmap.iloc[j,20]\n",
    "    for i in range (7,c-7):\n",
    "        if state_deaths.iloc[j,i+1]>-1:\n",
    "            state_deaths_popcorrected[k] = {\"pov\": pov,\"popden\": popden,\"pop\": pop,\"male\": male,\"black\": black,\n",
    "\"hispanic\": hispanic,\"mhi\": mhi,\"age\": age,\"casesday1\":(state_cases.iloc[j,i]*100000)/pop,\n",
    "\"casesday2\":(state_cases.iloc[j,i+1]*100000)/pop,\"casesday3\":(state_cases.iloc[j,i+2]*100000)/pop,\n",
    "\"casesday4\":(state_cases.iloc[j,i+3]*100000)/pop,\"casesday5\":(state_cases.iloc[j,i+4]*100000)/pop,\n",
    "\"casesday6\":(state_cases.iloc[j,i+5]*100000)/pop,\"casesday7\":(state_cases.iloc[j,i+6]*100000)/pop,\n",
    "\"7caseday1\": (state_cases_7day.iloc[j,i-6]*100000)/pop,\"7caseday2\":(state_cases_7day.iloc[j,i-5]*100000)/pop,\n",
    "\"7caseday3\":(state_cases_7day.iloc[j,i-4]*100000)/pop,\"7caseday4\":(state_cases_7day.iloc[j,i-3]*100000)/pop,\n",
    "\"7caseday5\":(state_cases_7day.iloc[j,i-2]*100000)/pop,\"7caseday6\":(state_cases_7day.iloc[j,i-1]*100000)/pop,\n",
    "\"7caseday7\":(state_cases_7day.iloc[j,i]*100000)/pop,\"7caseday8\":(state_cases_7day.iloc[j,i+1]*100000)/pop,\n",
    "\"day1\":(state_deaths.iloc[j,i]*100000)/pop,\"day2\":(state_deaths.iloc[j,i+1]*100000)/pop,\n",
    "\"day3\":(state_deaths.iloc[j,i+2]*100000)/pop,\"day4\":(state_deaths.iloc[j,i+3]*100000)/pop,\n",
    "\"day5\":(state_deaths.iloc[j,i+4]*100000)/pop,\"day6\":(state_deaths.iloc[j,i+5]*100000)/pop,\n",
    "\"day7\":(state_deaths.iloc[j,i+6]*100000)/pop,\"7day1\": (state_deaths_7day.iloc[j,i-6]*100000)/pop,\n",
    "\"7day2\":(state_deaths_7day.iloc[j,i-5]*100000)/pop,\"7day3\":(state_deaths_7day.iloc[j,i-4]*100000)/pop,\n",
    "\"7day4\":(state_deaths_7day.iloc[j,i-3]*100000)/pop,\"7day5\":(state_deaths_7day.iloc[j,i-2]*100000)/pop,\n",
    "\"7day6\":(state_deaths_7day.iloc[j,i-1]*100000)/pop,\"7day7\":(state_deaths_7day.iloc[j,i]*100000)/pop,\n",
    "\"7day8\":(state_deaths_7day.iloc[j,i+1]*100000)/pop}\n",
    "            k=k+1\n",
    "state_deaths_popcorrected = pd.DataFrame.from_dict(state_deaths_popcorrected, \"index\")\n",
    "end = timer()\n",
    "print(end - start)"
   ]
  },
  {
   "cell_type": "code",
   "execution_count": 16,
   "metadata": {},
   "outputs": [
    {
     "name": "stdout",
     "output_type": "stream",
     "text": [
      "197.06318350000004\n"
     ]
    }
   ],
   "source": [
    "start = timer()\n",
    "county_cases_popcorrected={}\n",
    "k=0\n",
    "[r,c]=county_cases.shape\n",
    "for j in range (0,r):\n",
    "    pop=county_heatmap.iloc[j,11]\n",
    "    male=county_heatmap.iloc[j,14]\n",
    "    black=county_heatmap.iloc[j,15]\n",
    "    hispanic=county_heatmap.iloc[j,16]\n",
    "    mhi=county_heatmap.iloc[j,12]\n",
    "    age=county_heatmap.iloc[j,13]\n",
    "    pov=county_heatmap.iloc[j,17]\n",
    "    popden=county_heatmap.iloc[j,18]\n",
    "    for i in range (9,c-7):\n",
    "        if county_cases.iloc[j,i+1]>-1:\n",
    "            county_cases_popcorrected[k] = {\"pov\": pov,\"popden\": popden,\"pop\": pop,\"male\": male,\"black\": black,\n",
    "\"hispanic\": hispanic,\"mhi\": mhi,\"age\": age,\"day1\":(county_cases.iloc[j,i]*100000)/pop,\n",
    "\"day2\":(county_cases.iloc[j,i+1]*100000)/pop,\"day3\":(county_cases.iloc[j,i+2]*100000)/pop,\n",
    "\"day4\":(county_cases.iloc[j,i+3]*100000)/pop,\"day5\":(county_cases.iloc[j,i+4]*100000)/pop,\n",
    "\"day6\":(county_cases.iloc[j,i+5]*100000)/pop,\"day7\":(county_cases.iloc[j,i+6]*100000)/pop,\n",
    "\"7deathday1\": (county_deaths_7day.iloc[j,i-6]*100000)/pop,\n",
    "\"7deathday2\":(county_deaths_7day.iloc[j,i-5]*100000)/pop,\"7deathday3\":(county_deaths_7day.iloc[j,i-4]*100000)/pop,\n",
    "\"7deathday4\":(county_deaths_7day.iloc[j,i-3]*100000)/pop,\"7deathday5\":(county_deaths_7day.iloc[j,i-2]*100000)/pop,\n",
    "\"7deathday6\":(county_deaths_7day.iloc[j,i-1]*100000)/pop,\"7deathday7\":(county_deaths_7day.iloc[j,i]*100000)/pop,\n",
    "\"rad27day1\": (rad2_county_7day.iloc[j,i-6]),\"rad27day2\":(rad2_county_7day.iloc[j,i-5]),\n",
    "\"rad27day3\":(rad2_county_7day.iloc[j,i-4]),\"rad27day4\":(rad2_county_7day.iloc[j,i-3]),\n",
    "\"rad27day5\":(rad2_county_7day.iloc[j,i-2]),\"rad27day6\":(rad2_county_7day.iloc[j,i-1]),\n",
    "\"rad27day7\":(rad2_county_7day.iloc[j,i]),\"rad57day1\": (rad5_county_7day.iloc[j,i-6]),\n",
    "\"rad57day2\":(rad5_county_7day.iloc[j,i-5]),\"rad57day3\":(rad5_county_7day.iloc[j,i-4]),\n",
    "\"rad57day4\":(rad5_county_7day.iloc[j,i-3]),\"rad57day5\":(rad5_county_7day.iloc[j,i-2]),\n",
    "\"rad57day6\":(rad5_county_7day.iloc[j,i-1]),\"rad57day7\":(rad5_county_7day.iloc[j,i]),                                \n",
    "\"rad107day1\": (rad10_county_7day.iloc[j,i-6]),\"rad107day2\":(rad10_county_7day.iloc[j,i-5]),\n",
    "\"rad107day3\":(rad10_county_7day.iloc[j,i-4]),\"rad107day4\":(rad10_county_7day.iloc[j,i-3]),\n",
    "\"rad107day5\":(rad10_county_7day.iloc[j,i-2]),\"rad107day6\":(rad10_county_7day.iloc[j,i-1]),\n",
    "\"rad107day7\":(rad10_county_7day.iloc[j,i]),\"7day1\": (county_cases_7day.iloc[j,i-6]*100000)/pop,\n",
    "\"7day2\":(county_cases_7day.iloc[j,i-5]*100000)/pop,\"7day3\":(county_cases_7day.iloc[j,i-4]*100000)/pop,\n",
    "\"7day4\":(county_cases_7day.iloc[j,i-3]*100000)/pop,\"7day5\":(county_cases_7day.iloc[j,i-2]*100000)/pop,\n",
    "\"7day6\":(county_cases_7day.iloc[j,i-1]*100000)/pop,\"7day7\":(county_cases_7day.iloc[j,i]*100000)/pop,\n",
    "\"7day8\":(county_cases_7day.iloc[j,i+1]*100000)/pop}\n",
    "            k=k+1\n",
    "county_cases_popcorrected = pd.DataFrame.from_dict(county_cases_popcorrected, \"index\")\n",
    "cases_popcorrected=pd.concat([state_cases_popcorrected,county_cases_popcorrected])\n",
    "end = timer()\n",
    "print(end - start)"
   ]
  },
  {
   "cell_type": "code",
   "execution_count": 17,
   "metadata": {},
   "outputs": [
    {
     "name": "stdout",
     "output_type": "stream",
     "text": [
      "160.38421579999988\n"
     ]
    }
   ],
   "source": [
    "start = timer()\n",
    "county_deaths_popcorrected={}\n",
    "k=0\n",
    "[r,c]=county_deaths.shape\n",
    "for j in range (0,r):\n",
    "    pop=county_heatmap.iloc[j,11]\n",
    "    male=county_heatmap.iloc[j,14]\n",
    "    black=county_heatmap.iloc[j,15]\n",
    "    hispanic=county_heatmap.iloc[j,16]\n",
    "    mhi=county_heatmap.iloc[j,12]\n",
    "    age=county_heatmap.iloc[j,13]\n",
    "    pov=county_heatmap.iloc[j,17]\n",
    "    popden=county_heatmap.iloc[j,18]\n",
    "    for i in range (9,c-7):\n",
    "        if county_deaths.iloc[j,i+1]>-1:\n",
    "            county_deaths_popcorrected[k] = {\"pov\": pov,\"popden\": popden,\"pop\": pop,\"male\": male,\"black\": black,\n",
    "\"hispanic\": hispanic,\"mhi\": mhi,\"age\": age,\"casesday1\":(county_cases.iloc[j,i]*100000)/pop,\n",
    "\"casesday2\":(county_cases.iloc[j,i+1]*100000)/pop,\"casesday3\":(county_cases.iloc[j,i+2]*100000)/pop,\n",
    "\"casesday4\":(county_cases.iloc[j,i+3]*100000)/pop,\"casesday5\":(county_cases.iloc[j,i+4]*100000)/pop,\n",
    "\"casesday6\":(county_cases.iloc[j,i+5]*100000)/pop,\"casesday7\":(county_cases.iloc[j,i+6]*100000)/pop,\n",
    "\"7caseday1\": (county_cases_7day.iloc[j,i-6]*100000)/pop,\"7caseday2\":(county_cases_7day.iloc[j,i-5]*100000)/pop,\n",
    "\"7caseday3\":(county_cases_7day.iloc[j,i-4]*100000)/pop,\"7caseday4\":(county_cases_7day.iloc[j,i-3]*100000)/pop,\n",
    "\"7caseday5\":(county_cases_7day.iloc[j,i-2]*100000)/pop,\"7caseday6\":(county_cases_7day.iloc[j,i-1]*100000)/pop,\n",
    "\"7caseday7\":(county_cases_7day.iloc[j,i]*100000)/pop,\"7caseday8\":(county_cases_7day.iloc[j,i+1]*100000)/pop,\n",
    "\"day1\":(county_deaths.iloc[j,i]*100000)/pop,\"day2\":(county_deaths.iloc[j,i+1]*100000)/pop,\n",
    "\"day3\":(county_deaths.iloc[j,i+2]*100000)/pop,\"day4\":(county_deaths.iloc[j,i+3]*100000)/pop,\n",
    "\"day5\":(county_deaths.iloc[j,i+4]*100000)/pop,\"day6\":(county_deaths.iloc[j,i+5]*100000)/pop,\n",
    "\"day7\":(county_deaths.iloc[j,i+6]*100000)/pop,\"7day1\": (county_deaths_7day.iloc[j,i-6]*100000)/pop,\n",
    "\"7day2\":(county_deaths_7day.iloc[j,i-5]*100000)/pop,\"7day3\":(county_deaths_7day.iloc[j,i-4]*100000)/pop,\n",
    "\"7day4\":(county_deaths_7day.iloc[j,i-3]*100000)/pop,\"7day5\":(county_deaths_7day.iloc[j,i-2]*100000)/pop,\n",
    "\"7day6\":(county_deaths_7day.iloc[j,i-1]*100000)/pop,\"7day7\":(county_deaths_7day.iloc[j,i]*100000)/pop,\n",
    "\"7day8\":(county_deaths_7day.iloc[j,i+1]*100000)/pop}\n",
    "            k=k+1\n",
    "county_deaths_popcorrected = pd.DataFrame.from_dict(county_deaths_popcorrected, \"index\")\n",
    "deaths_popcorrected=pd.concat([state_deaths_popcorrected,county_deaths_popcorrected])\n",
    "end = timer()\n",
    "print(end - start)"
   ]
  },
  {
   "cell_type": "code",
   "execution_count": 18,
   "metadata": {
    "scrolled": false
   },
   "outputs": [
    {
     "data": {
      "image/png": "[encoded data removed]",
      "text/plain": [
       "<Figure size 1080x1080 with 2 Axes>"
      ]
     },
     "metadata": {
      "needs_background": "light"
     },
     "output_type": "display_data"
    }
   ],
   "source": [
    "C_mat = cases_popcorrected.corr()\n",
    "fig = plt.figure(figsize = (15,15))\n",
    "sb.heatmap(C_mat, vmax = .8, square = True)\n",
    "plt.show()"
   ]
  },
  {
   "cell_type": "code",
   "execution_count": 19,
   "metadata": {},
   "outputs": [
    {
     "data": {
      "image/png": "[encoded data removed]",
      "text/plain": [
       "<Figure size 1080x1080 with 2 Axes>"
      ]
     },
     "metadata": {
      "needs_background": "light"
     },
     "output_type": "display_data"
    }
   ],
   "source": [
    "C_mat = deaths_popcorrected.corr()\n",
    "fig = plt.figure(figsize = (15,15))\n",
    "sb.heatmap(C_mat, vmax = .8, square = True)\n",
    "plt.show()"
   ]
  },
  {
   "cell_type": "code",
   "execution_count": 38,
   "metadata": {},
   "outputs": [
    {
     "name": "stdout",
     "output_type": "stream",
     "text": [
      "(628224, 8) (628224, 1) (628224, 7) (628224, 1)\n"
     ]
    }
   ],
   "source": [
    "x= cases_popcorrected[[\"popden\",\"black\",\"hispanic\",\"age\",'day7','rad57day7','7day7']]\n",
    "y= cases_popcorrected['7day8'].values.reshape(-1, 1)\n",
    "X = deaths_popcorrected[[\"popden\",\"black\",\"hispanic\",\"mhi\",\"age\",'7caseday1','day7','7day7']]\n",
    "Y = deaths_popcorrected['7day8'].values.reshape(-1, 1)\n",
    "print(X.shape, Y.shape, x.shape,y.shape)"
   ]
  },
  {
   "cell_type": "code",
   "execution_count": 39,
   "metadata": {},
   "outputs": [],
   "source": [
    "X_train, X_test, Y_train, Y_test = train_test_split(X, Y, random_state=42)\n",
    "x_train, x_test, y_train, y_test = train_test_split(x, y, random_state=42)"
   ]
  },
  {
   "cell_type": "code",
   "execution_count": 40,
   "metadata": {
    "scrolled": false
   },
   "outputs": [
    {
     "name": "stdout",
     "output_type": "stream",
     "text": [
      "Model: \"sequential_6\"\n",
      "_________________________________________________________________\n",
      "Layer (type)                 Output Shape              Param #   \n",
      "=================================================================\n",
      "dense_48 (Dense)             (None, 16)                144       \n",
      "_________________________________________________________________\n",
      "dense_49 (Dense)             (None, 32)                544       \n",
      "_________________________________________________________________\n",
      "dense_50 (Dense)             (None, 32)                1056      \n",
      "_________________________________________________________________\n",
      "dense_51 (Dense)             (None, 32)                1056      \n",
      "_________________________________________________________________\n",
      "dense_52 (Dense)             (None, 32)                1056      \n",
      "_________________________________________________________________\n",
      "dense_53 (Dense)             (None, 32)                1056      \n",
      "_________________________________________________________________\n",
      "dense_54 (Dense)             (None, 32)                1056      \n",
      "_________________________________________________________________\n",
      "dense_55 (Dense)             (None, 1)                 33        \n",
      "=================================================================\n",
      "Total params: 6,001\n",
      "Trainable params: 6,001\n",
      "Non-trainable params: 0\n",
      "_________________________________________________________________\n"
     ]
    }
   ],
   "source": [
    "model = Sequential()\n",
    "model.add(Dense(16, kernel_initializer='normal',activation='relu', input_dim=X_train.shape[1]))\n",
    "# Add a second hidden layer\n",
    "model.add(Dense(32, kernel_initializer='normal',activation='relu'))\n",
    "model.add(Dense(32, kernel_initializer='normal',activation='relu'))\n",
    "model.add(Dense(32, kernel_initializer='normal',activation='relu'))\n",
    "model.add(Dense(32, kernel_initializer='normal',activation='relu'))\n",
    "model.add(Dense(32, kernel_initializer='normal',activation='relu'))\n",
    "model.add(Dense(32, kernel_initializer='normal',activation='relu'))\n",
    "# Y_train = to_categorical(Y_train)\n",
    "# Add output layer\n",
    "model.add(Dense(1,activation='linear'))\n",
    "model.compile(loss=\"huber_loss\",optimizer=\"Adam\", metrics=['accuracy'])\n",
    "model.summary()"
   ]
  },
  {
   "cell_type": "code",
   "execution_count": 41,
   "metadata": {
    "scrolled": true
   },
   "outputs": [
    {
     "name": "stdout",
     "output_type": "stream",
     "text": [
      "INFO:tensorflow:Assets written to: models\\Deaths--Weights-001--0.02380--0.94698\\assets\n",
      "INFO:tensorflow:Assets written to: models\\Deaths--Weights-002--0.02332--0.94871\\assets\n",
      "INFO:tensorflow:Assets written to: models\\Deaths--Weights-003--0.02299--0.94893\\assets\n"
     ]
    },
    {
     "data": {
      "text/plain": [
       "<tensorflow.python.keras.callbacks.History at 0x204a96e0348>"
      ]
     },
     "execution_count": 41,
     "metadata": {},
     "output_type": "execute_result"
    }
   ],
   "source": [
    "checkpoint_name = \"models/Deaths--Weights-{epoch:03d}--{val_loss:.5f}--{val_accuracy:.5f}\"\n",
    "\n",
    "checkpoint = tf.keras.callbacks.ModelCheckpoint(checkpoint_name, monitor='val_loss', verbose = 0,\n",
    "                                                save_best_only = True, mode ='auto')\n",
    "# Use the training data to fit (train) the model\n",
    "model.fit(X_train,Y_train,epochs=250,shuffle=True,verbose=0,validation_split = 0.2,callbacks=[checkpoint])"
   ]
  },
  {
   "cell_type": "code",
   "execution_count": 42,
   "metadata": {},
   "outputs": [
    {
     "name": "stdout",
     "output_type": "stream",
     "text": [
      "Model: \"sequential_7\"\n",
      "_________________________________________________________________\n",
      "Layer (type)                 Output Shape              Param #   \n",
      "=================================================================\n",
      "dense_56 (Dense)             (None, 14)                112       \n",
      "_________________________________________________________________\n",
      "dense_57 (Dense)             (None, 28)                420       \n",
      "_________________________________________________________________\n",
      "dense_58 (Dense)             (None, 28)                812       \n",
      "_________________________________________________________________\n",
      "dense_59 (Dense)             (None, 28)                812       \n",
      "_________________________________________________________________\n",
      "dense_60 (Dense)             (None, 28)                812       \n",
      "_________________________________________________________________\n",
      "dense_61 (Dense)             (None, 28)                812       \n",
      "_________________________________________________________________\n",
      "dense_62 (Dense)             (None, 28)                812       \n",
      "_________________________________________________________________\n",
      "dense_63 (Dense)             (None, 1)                 29        \n",
      "=================================================================\n",
      "Total params: 4,621\n",
      "Trainable params: 4,621\n",
      "Non-trainable params: 0\n",
      "_________________________________________________________________\n"
     ]
    }
   ],
   "source": [
    "model2 = Sequential()\n",
    "model2.add(Dense(14, kernel_initializer='normal',activation='relu', input_dim=x_train.shape[1]))\n",
    "# Add a second hidden layer\n",
    "model2.add(Dense(28, kernel_initializer='normal',activation='relu'))\n",
    "model2.add(Dense(28, kernel_initializer='normal',activation='relu'))\n",
    "model2.add(Dense(28, kernel_initializer='normal',activation='relu'))\n",
    "model2.add(Dense(28, kernel_initializer='normal',activation='relu'))\n",
    "model2.add(Dense(28, kernel_initializer='normal',activation='relu'))\n",
    "model2.add(Dense(28, kernel_initializer='normal',activation='relu'))\n",
    "# Y_train = to_categorical(Y_train)\n",
    "# Add output layer\n",
    "model2.add(Dense(1,activation='linear'))\n",
    "model2.compile(loss=\"huber_loss\",optimizer=\"Adam\", metrics=['accuracy'])\n",
    "model2.summary()"
   ]
  },
  {
   "cell_type": "code",
   "execution_count": 43,
   "metadata": {},
   "outputs": [
    {
     "name": "stdout",
     "output_type": "stream",
     "text": [
      "INFO:tensorflow:Assets written to: models\\Cases--Weights-001--1.71373--0.61457\\assets\n",
      "INFO:tensorflow:Assets written to: models\\Cases--Weights-002--1.47574--0.61120\\assets\n",
      "INFO:tensorflow:Assets written to: models\\Cases--Weights-003--1.47433--0.60965\\assets\n",
      "INFO:tensorflow:Assets written to: models\\Cases--Weights-009--1.45896--0.61165\\assets\n",
      "INFO:tensorflow:Assets written to: models\\Cases--Weights-014--1.44114--0.61292\\assets\n",
      "INFO:tensorflow:Assets written to: models\\Cases--Weights-018--1.43950--0.61387\\assets\n",
      "INFO:tensorflow:Assets written to: models\\Cases--Weights-024--1.43946--0.61245\\assets\n",
      "INFO:tensorflow:Assets written to: models\\Cases--Weights-031--1.43437--0.61096\\assets\n",
      "INFO:tensorflow:Assets written to: models\\Cases--Weights-041--1.43404--0.61132\\assets\n"
     ]
    },
    {
     "data": {
      "text/plain": [
       "<tensorflow.python.keras.callbacks.History at 0x204a96f6048>"
      ]
     },
     "execution_count": 43,
     "metadata": {},
     "output_type": "execute_result"
    }
   ],
   "source": [
    "checkpoint_name = \"models/Cases--Weights-{epoch:03d}--{val_loss:.5f}--{val_accuracy:.5f}\"\n",
    "\n",
    "checkpoint = tf.keras.callbacks.ModelCheckpoint(checkpoint_name, monitor='val_loss', verbose = 0,\n",
    "                                                save_best_only = True, mode ='auto')\n",
    "\n",
    "# Use the training data to fit (train) the model\n",
    "model2.fit(x_train,y_train,epochs=250,shuffle=True,verbose=0,validation_split = 0.2,callbacks=[checkpoint])"
   ]
  },
  {
   "cell_type": "code",
   "execution_count": null,
   "metadata": {},
   "outputs": [],
   "source": []
  }
 ],
 "metadata": {
  "kernelspec": {
   "display_name": "Python [conda env:PythonData] *",
   "language": "python",
   "name": "conda-env-PythonData-py"
  },
  "language_info": {
   "codemirror_mode": {
    "name": "ipython",
    "version": 3
   },
   "file_extension": ".py",
   "mimetype": "text/x-python",
   "name": "python",
   "nbconvert_exporter": "python",
   "pygments_lexer": "ipython3",
   "version": "3.7.6"
  }
 },
 "nbformat": 4,
 "nbformat_minor": 4
}
